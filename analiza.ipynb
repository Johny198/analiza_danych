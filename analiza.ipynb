{
 "cells": [
  {
   "cell_type": "markdown",
   "metadata": {
    "scrolled": true
   },
   "source": [
    "# Analiza bazy danych ,,Human Development\""
   ]
  },
  {
   "cell_type": "markdown",
   "metadata": {},
   "source": [
    "## 1. Importowanie paczek python'owych, wczytanie pliku danych oraz wyczyszczenie danych"
   ]
  },
  {
   "cell_type": "code",
   "execution_count": 1,
   "metadata": {},
   "outputs": [],
   "source": [
    "import pandas as pd\n",
    "import scipy.stats as st\n",
    "import numpy as np\n",
    "import matplotlib.pyplot as plt\n",
    "from scipy.stats import ttest_ind"
   ]
  },
  {
   "cell_type": "code",
   "execution_count": 2,
   "metadata": {},
   "outputs": [],
   "source": [
    "dane_kontynenty = pd.read_csv('continents.csv', sep=';')\n",
    "dane_panstwa = pd.read_csv('gender_development.csv', sep=',',na_values = '..')"
   ]
  },
  {
   "cell_type": "code",
   "execution_count": 3,
   "metadata": {},
   "outputs": [],
   "source": [
    "dane = pd.concat([dane_panstwa, dane_kontynenty,], axis = 1)\n",
    "dane = dane.drop([188,189,190,191,192,193,194],axis=0)"
   ]
  },
  {
   "cell_type": "code",
   "execution_count": 4,
   "metadata": {},
   "outputs": [],
   "source": [
    "dane.to_csv('human_development.csv')"
   ]
  },
  {
   "cell_type": "code",
   "execution_count": 5,
   "metadata": {},
   "outputs": [],
   "source": [
    "dane[\"Gender development\"] = dane[\"Gender development\"].str.lower()"
   ]
  },
  {
   "cell_type": "code",
   "execution_count": 6,
   "metadata": {},
   "outputs": [],
   "source": [
    "dane = dane.drop([\"GDI Rank\"], axis = 1)"
   ]
  },
  {
   "cell_type": "code",
   "execution_count": 7,
   "metadata": {},
   "outputs": [],
   "source": [
    "dane = dane.dropna()"
   ]
  },
  {
   "cell_type": "markdown",
   "metadata": {},
   "source": [
    "## 2. Dane"
   ]
  },
  {
   "cell_type": "code",
   "execution_count": 8,
   "metadata": {},
   "outputs": [
    {
     "data": {
      "text/html": [
       "<div>\n",
       "<style scoped>\n",
       "    .dataframe tbody tr th:only-of-type {\n",
       "        vertical-align: middle;\n",
       "    }\n",
       "\n",
       "    .dataframe tbody tr th {\n",
       "        vertical-align: top;\n",
       "    }\n",
       "\n",
       "    .dataframe thead th {\n",
       "        text-align: right;\n",
       "    }\n",
       "</style>\n",
       "<table border=\"1\" class=\"dataframe\">\n",
       "  <thead>\n",
       "    <tr style=\"text-align: right;\">\n",
       "      <th></th>\n",
       "      <th>Country</th>\n",
       "      <th>Gender Development Index (GDI)</th>\n",
       "      <th>Human Development Index (Female)</th>\n",
       "      <th>Human Development Index (Male)</th>\n",
       "      <th>Life Expectancy at Birth (Female)</th>\n",
       "      <th>Life Expectancy at Birth (Male)</th>\n",
       "      <th>Expected Years of Education (Female)</th>\n",
       "      <th>Expected Years of Education (Male)</th>\n",
       "      <th>Mean Years of Education (Female)</th>\n",
       "      <th>Mean Years of Education (Male)</th>\n",
       "      <th>Estimated Gross National Income per Capita (Female)</th>\n",
       "      <th>Estimated Gross National Income per Capita (Male)</th>\n",
       "      <th>Continent</th>\n",
       "      <th>Gender development</th>\n",
       "    </tr>\n",
       "  </thead>\n",
       "  <tbody>\n",
       "    <tr>\n",
       "      <th>0</th>\n",
       "      <td>Norway</td>\n",
       "      <td>0.996</td>\n",
       "      <td>0.940</td>\n",
       "      <td>0.944</td>\n",
       "      <td>83.6</td>\n",
       "      <td>79.5</td>\n",
       "      <td>18.2</td>\n",
       "      <td>16.8</td>\n",
       "      <td>12.7</td>\n",
       "      <td>12.5</td>\n",
       "      <td>57140.0</td>\n",
       "      <td>72825.0</td>\n",
       "      <td>Europe</td>\n",
       "      <td>high</td>\n",
       "    </tr>\n",
       "    <tr>\n",
       "      <th>1</th>\n",
       "      <td>Australia</td>\n",
       "      <td>0.976</td>\n",
       "      <td>0.922</td>\n",
       "      <td>0.945</td>\n",
       "      <td>84.5</td>\n",
       "      <td>80.3</td>\n",
       "      <td>20.7</td>\n",
       "      <td>19.7</td>\n",
       "      <td>13.1</td>\n",
       "      <td>12.9</td>\n",
       "      <td>33688.0</td>\n",
       "      <td>50914.0</td>\n",
       "      <td>Australia and Oceania</td>\n",
       "      <td>high</td>\n",
       "    </tr>\n",
       "    <tr>\n",
       "      <th>2</th>\n",
       "      <td>Switzerland</td>\n",
       "      <td>0.950</td>\n",
       "      <td>0.898</td>\n",
       "      <td>0.945</td>\n",
       "      <td>85.0</td>\n",
       "      <td>80.8</td>\n",
       "      <td>15.7</td>\n",
       "      <td>15.9</td>\n",
       "      <td>11.5</td>\n",
       "      <td>13.1</td>\n",
       "      <td>44132.0</td>\n",
       "      <td>69077.0</td>\n",
       "      <td>Europe</td>\n",
       "      <td>average</td>\n",
       "    </tr>\n",
       "    <tr>\n",
       "      <th>3</th>\n",
       "      <td>Denmark</td>\n",
       "      <td>0.977</td>\n",
       "      <td>0.912</td>\n",
       "      <td>0.934</td>\n",
       "      <td>82.2</td>\n",
       "      <td>78.3</td>\n",
       "      <td>19.3</td>\n",
       "      <td>18.1</td>\n",
       "      <td>12.8</td>\n",
       "      <td>12.7</td>\n",
       "      <td>36439.0</td>\n",
       "      <td>51727.0</td>\n",
       "      <td>Europe</td>\n",
       "      <td>high</td>\n",
       "    </tr>\n",
       "    <tr>\n",
       "      <th>4</th>\n",
       "      <td>Netherlands</td>\n",
       "      <td>0.947</td>\n",
       "      <td>0.893</td>\n",
       "      <td>0.943</td>\n",
       "      <td>83.3</td>\n",
       "      <td>79.7</td>\n",
       "      <td>18.0</td>\n",
       "      <td>17.9</td>\n",
       "      <td>11.6</td>\n",
       "      <td>12.2</td>\n",
       "      <td>29500.0</td>\n",
       "      <td>61641.0</td>\n",
       "      <td>Europe</td>\n",
       "      <td>average</td>\n",
       "    </tr>\n",
       "    <tr>\n",
       "      <th>...</th>\n",
       "      <td>...</td>\n",
       "      <td>...</td>\n",
       "      <td>...</td>\n",
       "      <td>...</td>\n",
       "      <td>...</td>\n",
       "      <td>...</td>\n",
       "      <td>...</td>\n",
       "      <td>...</td>\n",
       "      <td>...</td>\n",
       "      <td>...</td>\n",
       "      <td>...</td>\n",
       "      <td>...</td>\n",
       "      <td>...</td>\n",
       "      <td>...</td>\n",
       "    </tr>\n",
       "    <tr>\n",
       "      <th>182</th>\n",
       "      <td>Burkina Faso</td>\n",
       "      <td>0.881</td>\n",
       "      <td>0.376</td>\n",
       "      <td>0.427</td>\n",
       "      <td>59.9</td>\n",
       "      <td>57.3</td>\n",
       "      <td>7.4</td>\n",
       "      <td>8.1</td>\n",
       "      <td>1.0</td>\n",
       "      <td>1.9</td>\n",
       "      <td>1325.0</td>\n",
       "      <td>1859.0</td>\n",
       "      <td>Africa</td>\n",
       "      <td>average</td>\n",
       "    </tr>\n",
       "    <tr>\n",
       "      <th>183</th>\n",
       "      <td>Burundi</td>\n",
       "      <td>0.911</td>\n",
       "      <td>0.381</td>\n",
       "      <td>0.418</td>\n",
       "      <td>58.7</td>\n",
       "      <td>54.8</td>\n",
       "      <td>9.6</td>\n",
       "      <td>10.7</td>\n",
       "      <td>2.2</td>\n",
       "      <td>3.1</td>\n",
       "      <td>693.0</td>\n",
       "      <td>825.0</td>\n",
       "      <td>Africa</td>\n",
       "      <td>average</td>\n",
       "    </tr>\n",
       "    <tr>\n",
       "      <th>184</th>\n",
       "      <td>Chad</td>\n",
       "      <td>0.768</td>\n",
       "      <td>0.338</td>\n",
       "      <td>0.440</td>\n",
       "      <td>52.7</td>\n",
       "      <td>50.5</td>\n",
       "      <td>5.9</td>\n",
       "      <td>8.9</td>\n",
       "      <td>1.0</td>\n",
       "      <td>2.9</td>\n",
       "      <td>1657.0</td>\n",
       "      <td>2513.0</td>\n",
       "      <td>Africa</td>\n",
       "      <td>low</td>\n",
       "    </tr>\n",
       "    <tr>\n",
       "      <th>186</th>\n",
       "      <td>Central African Republic</td>\n",
       "      <td>0.773</td>\n",
       "      <td>0.303</td>\n",
       "      <td>0.392</td>\n",
       "      <td>52.6</td>\n",
       "      <td>48.8</td>\n",
       "      <td>5.9</td>\n",
       "      <td>8.6</td>\n",
       "      <td>2.8</td>\n",
       "      <td>5.7</td>\n",
       "      <td>476.0</td>\n",
       "      <td>689.0</td>\n",
       "      <td>Africa</td>\n",
       "      <td>low</td>\n",
       "    </tr>\n",
       "    <tr>\n",
       "      <th>187</th>\n",
       "      <td>Niger</td>\n",
       "      <td>0.729</td>\n",
       "      <td>0.287</td>\n",
       "      <td>0.394</td>\n",
       "      <td>62.4</td>\n",
       "      <td>60.6</td>\n",
       "      <td>4.8</td>\n",
       "      <td>6.1</td>\n",
       "      <td>0.8</td>\n",
       "      <td>2.0</td>\n",
       "      <td>491.0</td>\n",
       "      <td>1319.0</td>\n",
       "      <td>Africa</td>\n",
       "      <td>low</td>\n",
       "    </tr>\n",
       "  </tbody>\n",
       "</table>\n",
       "<p>161 rows × 14 columns</p>\n",
       "</div>"
      ],
      "text/plain": [
       "                      Country  Gender Development Index (GDI)  \\\n",
       "0                      Norway                           0.996   \n",
       "1                   Australia                           0.976   \n",
       "2                 Switzerland                           0.950   \n",
       "3                     Denmark                           0.977   \n",
       "4                 Netherlands                           0.947   \n",
       "..                        ...                             ...   \n",
       "182              Burkina Faso                           0.881   \n",
       "183                   Burundi                           0.911   \n",
       "184                      Chad                           0.768   \n",
       "186  Central African Republic                           0.773   \n",
       "187                     Niger                           0.729   \n",
       "\n",
       "     Human Development Index (Female)  Human Development Index (Male)  \\\n",
       "0                               0.940                           0.944   \n",
       "1                               0.922                           0.945   \n",
       "2                               0.898                           0.945   \n",
       "3                               0.912                           0.934   \n",
       "4                               0.893                           0.943   \n",
       "..                                ...                             ...   \n",
       "182                             0.376                           0.427   \n",
       "183                             0.381                           0.418   \n",
       "184                             0.338                           0.440   \n",
       "186                             0.303                           0.392   \n",
       "187                             0.287                           0.394   \n",
       "\n",
       "     Life Expectancy at Birth (Female)  Life Expectancy at Birth (Male)  \\\n",
       "0                                 83.6                             79.5   \n",
       "1                                 84.5                             80.3   \n",
       "2                                 85.0                             80.8   \n",
       "3                                 82.2                             78.3   \n",
       "4                                 83.3                             79.7   \n",
       "..                                 ...                              ...   \n",
       "182                               59.9                             57.3   \n",
       "183                               58.7                             54.8   \n",
       "184                               52.7                             50.5   \n",
       "186                               52.6                             48.8   \n",
       "187                               62.4                             60.6   \n",
       "\n",
       "     Expected Years of Education (Female)  Expected Years of Education (Male)  \\\n",
       "0                                    18.2                                16.8   \n",
       "1                                    20.7                                19.7   \n",
       "2                                    15.7                                15.9   \n",
       "3                                    19.3                                18.1   \n",
       "4                                    18.0                                17.9   \n",
       "..                                    ...                                 ...   \n",
       "182                                   7.4                                 8.1   \n",
       "183                                   9.6                                10.7   \n",
       "184                                   5.9                                 8.9   \n",
       "186                                   5.9                                 8.6   \n",
       "187                                   4.8                                 6.1   \n",
       "\n",
       "     Mean Years of Education (Female)  Mean Years of Education (Male)  \\\n",
       "0                                12.7                            12.5   \n",
       "1                                13.1                            12.9   \n",
       "2                                11.5                            13.1   \n",
       "3                                12.8                            12.7   \n",
       "4                                11.6                            12.2   \n",
       "..                                ...                             ...   \n",
       "182                               1.0                             1.9   \n",
       "183                               2.2                             3.1   \n",
       "184                               1.0                             2.9   \n",
       "186                               2.8                             5.7   \n",
       "187                               0.8                             2.0   \n",
       "\n",
       "     Estimated Gross National Income per Capita (Female)  \\\n",
       "0                                              57140.0     \n",
       "1                                              33688.0     \n",
       "2                                              44132.0     \n",
       "3                                              36439.0     \n",
       "4                                              29500.0     \n",
       "..                                                 ...     \n",
       "182                                             1325.0     \n",
       "183                                              693.0     \n",
       "184                                             1657.0     \n",
       "186                                              476.0     \n",
       "187                                              491.0     \n",
       "\n",
       "     Estimated Gross National Income per Capita (Male)              Continent  \\\n",
       "0                                              72825.0                 Europe   \n",
       "1                                              50914.0  Australia and Oceania   \n",
       "2                                              69077.0                 Europe   \n",
       "3                                              51727.0                 Europe   \n",
       "4                                              61641.0                 Europe   \n",
       "..                                                 ...                    ...   \n",
       "182                                             1859.0                 Africa   \n",
       "183                                              825.0                 Africa   \n",
       "184                                             2513.0                 Africa   \n",
       "186                                              689.0                 Africa   \n",
       "187                                             1319.0                 Africa   \n",
       "\n",
       "    Gender development  \n",
       "0                 high  \n",
       "1                 high  \n",
       "2              average  \n",
       "3                 high  \n",
       "4              average  \n",
       "..                 ...  \n",
       "182            average  \n",
       "183            average  \n",
       "184                low  \n",
       "186                low  \n",
       "187                low  \n",
       "\n",
       "[161 rows x 14 columns]"
      ]
     },
     "execution_count": 8,
     "metadata": {},
     "output_type": "execute_result"
    }
   ],
   "source": [
    "dane"
   ]
  },
  {
   "cell_type": "markdown",
   "metadata": {},
   "source": [
    "## 3. Opis zmiennej ,,Human Development Index (Female)\""
   ]
  },
  {
   "cell_type": "code",
   "execution_count": 9,
   "metadata": {},
   "outputs": [
    {
     "data": {
      "text/plain": [
       "count    161.000000\n",
       "mean       0.675050\n",
       "std        0.168321\n",
       "min        0.287000\n",
       "25%        0.541000\n",
       "50%        0.711000\n",
       "75%        0.812000\n",
       "max        0.940000\n",
       "Name: Human Development Index (Female), dtype: float64"
      ]
     },
     "execution_count": 9,
     "metadata": {},
     "output_type": "execute_result"
    }
   ],
   "source": [
    "zmienna = 'Human Development Index (Female)'\n",
    "dane[zmienna].describe()"
   ]
  },
  {
   "cell_type": "code",
   "execution_count": 10,
   "metadata": {},
   "outputs": [
    {
     "data": {
      "image/png": "[encoded data removed]",
      "text/plain": [
       "<Figure size 432x288 with 1 Axes>"
      ]
     },
     "metadata": {
      "needs_background": "light"
     },
     "output_type": "display_data"
    }
   ],
   "source": [
    "plt.hist(dane[zmienna])\n",
    "plt.title('Histogram zmiennej Human Development Index (Female)')\n",
    "plt.show()"
   ]
  },
  {
   "cell_type": "markdown",
   "metadata": {},
   "source": [
    "## 4. Opis zmiennej ,,Human Development Index (Male)\""
   ]
  },
  {
   "cell_type": "code",
   "execution_count": 11,
   "metadata": {},
   "outputs": [
    {
     "data": {
      "text/plain": [
       "count    161.000000\n",
       "mean       0.718075\n",
       "std        0.145709\n",
       "min        0.392000\n",
       "25%        0.609000\n",
       "50%        0.737000\n",
       "75%        0.835000\n",
       "max        0.945000\n",
       "Name: Human Development Index (Male), dtype: float64"
      ]
     },
     "execution_count": 11,
     "metadata": {},
     "output_type": "execute_result"
    }
   ],
   "source": [
    "zmienna = 'Human Development Index (Male)'\n",
    "dane[zmienna].describe()"
   ]
  },
  {
   "cell_type": "code",
   "execution_count": 12,
   "metadata": {},
   "outputs": [
    {
     "data": {
      "image/png": "[encoded data removed]",
      "text/plain": [
       "<Figure size 432x288 with 1 Axes>"
      ]
     },
     "metadata": {
      "needs_background": "light"
     },
     "output_type": "display_data"
    }
   ],
   "source": [
    "plt.hist(dane[zmienna])\n",
    "plt.title('Histogram zmiennej Human Development Index (Male)')\n",
    "plt.show()"
   ]
  },
  {
   "cell_type": "markdown",
   "metadata": {},
   "source": [
    "## 5. Opis zmiennej ,,Life Expectancy at Birth (Female)''"
   ]
  },
  {
   "cell_type": "code",
   "execution_count": 13,
   "metadata": {},
   "outputs": [
    {
     "data": {
      "text/plain": [
       "count    161.000000\n",
       "mean      73.919876\n",
       "std        8.958584\n",
       "min       48.200000\n",
       "25%       68.300000\n",
       "50%       76.700000\n",
       "75%       80.600000\n",
       "max       86.800000\n",
       "Name: Life Expectancy at Birth (Female), dtype: float64"
      ]
     },
     "execution_count": 13,
     "metadata": {},
     "output_type": "execute_result"
    }
   ],
   "source": [
    "zmienna = 'Life Expectancy at Birth (Female)'\n",
    "dane[zmienna].describe()"
   ]
  },
  {
   "cell_type": "code",
   "execution_count": 14,
   "metadata": {},
   "outputs": [
    {
     "data": {
      "image/png": "[encoded data removed]",
      "text/plain": [
       "<Figure size 432x288 with 1 Axes>"
      ]
     },
     "metadata": {
      "needs_background": "light"
     },
     "output_type": "display_data"
    }
   ],
   "source": [
    "plt.hist(dane[zmienna])\n",
    "plt.title('Histogram zmiennej Life Expectancy at Birth (Female)')\n",
    "plt.show()"
   ]
  },
  {
   "cell_type": "markdown",
   "metadata": {},
   "source": [
    "## 6. Opis zmiennej ,,Life Expectancy at Birth (Male)''"
   ]
  },
  {
   "cell_type": "code",
   "execution_count": 15,
   "metadata": {},
   "outputs": [
    {
     "data": {
      "text/plain": [
       "count    161.000000\n",
       "mean      69.149689\n",
       "std        8.004148\n",
       "min       48.800000\n",
       "25%       64.400000\n",
       "50%       70.700000\n",
       "75%       75.400000\n",
       "max       81.200000\n",
       "Name: Life Expectancy at Birth (Male), dtype: float64"
      ]
     },
     "execution_count": 15,
     "metadata": {},
     "output_type": "execute_result"
    }
   ],
   "source": [
    "zmienna = 'Life Expectancy at Birth (Male)'\n",
    "dane[zmienna].describe()"
   ]
  },
  {
   "cell_type": "code",
   "execution_count": 16,
   "metadata": {},
   "outputs": [
    {
     "data": {
      "image/png": "[encoded data removed]",
      "text/plain": [
       "<Figure size 432x288 with 1 Axes>"
      ]
     },
     "metadata": {
      "needs_background": "light"
     },
     "output_type": "display_data"
    }
   ],
   "source": [
    "plt.hist(dane[zmienna])\n",
    "plt.title('Histogram zmiennej Life Expectancy at Birth (Male)')\n",
    "plt.show()"
   ]
  },
  {
   "cell_type": "markdown",
   "metadata": {},
   "source": [
    "## 7. Opis zmiennej ,,Expected Years of Education (Female)''"
   ]
  },
  {
   "cell_type": "code",
   "execution_count": 17,
   "metadata": {},
   "outputs": [
    {
     "data": {
      "text/plain": [
       "count    161.000000\n",
       "mean      13.205590\n",
       "std        3.240433\n",
       "min        4.800000\n",
       "25%       10.900000\n",
       "50%       13.600000\n",
       "75%       15.500000\n",
       "max       20.700000\n",
       "Name: Expected Years of Education (Female), dtype: float64"
      ]
     },
     "execution_count": 17,
     "metadata": {},
     "output_type": "execute_result"
    }
   ],
   "source": [
    "zmienna = 'Expected Years of Education (Female)'\n",
    "dane[zmienna].describe()"
   ]
  },
  {
   "cell_type": "code",
   "execution_count": 18,
   "metadata": {},
   "outputs": [
    {
     "data": {
      "image/png": "[encoded data removed]",
      "text/plain": [
       "<Figure size 432x288 with 1 Axes>"
      ]
     },
     "metadata": {
      "needs_background": "light"
     },
     "output_type": "display_data"
    }
   ],
   "source": [
    "plt.hist(dane[zmienna])\n",
    "plt.title('Histogram zmiennej Expected Years of Education (Female)')\n",
    "plt.show()"
   ]
  },
  {
   "cell_type": "markdown",
   "metadata": {},
   "source": [
    "## 8. Opis zmiennej ,,Expected Years of Education (Male)''"
   ]
  },
  {
   "cell_type": "code",
   "execution_count": 19,
   "metadata": {},
   "outputs": [
    {
     "data": {
      "text/plain": [
       "count    161.000000\n",
       "mean      13.075155\n",
       "std        2.469793\n",
       "min        6.100000\n",
       "25%       11.300000\n",
       "50%       13.200000\n",
       "75%       14.800000\n",
       "max       19.700000\n",
       "Name: Expected Years of Education (Male), dtype: float64"
      ]
     },
     "execution_count": 19,
     "metadata": {},
     "output_type": "execute_result"
    }
   ],
   "source": [
    "zmienna = 'Expected Years of Education (Male)'\n",
    "dane[zmienna].describe()"
   ]
  },
  {
   "cell_type": "code",
   "execution_count": 20,
   "metadata": {},
   "outputs": [
    {
     "data": {
      "image/png": "[encoded data removed]",
      "text/plain": [
       "<Figure size 432x288 with 1 Axes>"
      ]
     },
     "metadata": {
      "needs_background": "light"
     },
     "output_type": "display_data"
    }
   ],
   "source": [
    "plt.hist(dane[zmienna])\n",
    "plt.title('Histogram zmiennej Expected Years of Education (Male)')\n",
    "plt.show()"
   ]
  },
  {
   "cell_type": "markdown",
   "metadata": {},
   "source": [
    "## 9. Opis zmiennej ,,Mean Years of Education (Female)''"
   ]
  },
  {
   "cell_type": "code",
   "execution_count": 21,
   "metadata": {},
   "outputs": [
    {
     "data": {
      "text/plain": [
       "count    161.000000\n",
       "mean       7.824845\n",
       "std        3.448750\n",
       "min        0.800000\n",
       "25%        5.300000\n",
       "50%        8.400000\n",
       "75%       10.600000\n",
       "max       13.100000\n",
       "Name: Mean Years of Education (Female), dtype: float64"
      ]
     },
     "execution_count": 21,
     "metadata": {},
     "output_type": "execute_result"
    }
   ],
   "source": [
    "zmienna = 'Mean Years of Education (Female)'\n",
    "dane[zmienna].describe()"
   ]
  },
  {
   "cell_type": "code",
   "execution_count": 22,
   "metadata": {},
   "outputs": [
    {
     "data": {
      "image/png": "[encoded data removed]",
      "text/plain": [
       "<Figure size 432x288 with 1 Axes>"
      ]
     },
     "metadata": {
      "needs_background": "light"
     },
     "output_type": "display_data"
    }
   ],
   "source": [
    "plt.hist(dane[zmienna])\n",
    "plt.title('Histogram zmiennej Mean Years of Education (Female)')\n",
    "plt.show()"
   ]
  },
  {
   "cell_type": "markdown",
   "metadata": {},
   "source": [
    "## 10. Opis zmiennej ,,Mean Years of Education (Male)'' "
   ]
  },
  {
   "cell_type": "code",
   "execution_count": 23,
   "metadata": {},
   "outputs": [
    {
     "data": {
      "text/plain": [
       "count    161.00000\n",
       "mean       8.64472\n",
       "std        2.86140\n",
       "min        1.90000\n",
       "25%        6.30000\n",
       "50%        8.80000\n",
       "75%       11.10000\n",
       "max       13.80000\n",
       "Name: Mean Years of Education (Male), dtype: float64"
      ]
     },
     "execution_count": 23,
     "metadata": {},
     "output_type": "execute_result"
    }
   ],
   "source": [
    "zmienna = 'Mean Years of Education (Male)'\n",
    "dane[zmienna].describe()"
   ]
  },
  {
   "cell_type": "code",
   "execution_count": 24,
   "metadata": {},
   "outputs": [
    {
     "data": {
      "image/png": "[encoded data removed]",
      "text/plain": [
       "<Figure size 432x288 with 1 Axes>"
      ]
     },
     "metadata": {
      "needs_background": "light"
     },
     "output_type": "display_data"
    }
   ],
   "source": [
    "plt.hist(dane[zmienna])\n",
    "plt.title('Histogram zmiennej Mean Years of Education (Male)')\n",
    "plt.show()"
   ]
  },
  {
   "cell_type": "markdown",
   "metadata": {},
   "source": [
    "## 11. Opis zmiennej ,,Estimated Gross National Income per Capita (Female)'' "
   ]
  },
  {
   "cell_type": "code",
   "execution_count": 25,
   "metadata": {},
   "outputs": [
    {
     "data": {
      "text/plain": [
       "count      161.000000\n",
       "mean     12299.776398\n",
       "std      13038.303107\n",
       "min        476.000000\n",
       "25%       2365.000000\n",
       "50%       7427.000000\n",
       "75%      18423.000000\n",
       "max      59994.000000\n",
       "Name: Estimated Gross National Income per Capita (Female), dtype: float64"
      ]
     },
     "execution_count": 25,
     "metadata": {},
     "output_type": "execute_result"
    }
   ],
   "source": [
    "zmienna = 'Estimated Gross National Income per Capita (Female)'\n",
    "dane[zmienna].describe()"
   ]
  },
  {
   "cell_type": "code",
   "execution_count": 26,
   "metadata": {},
   "outputs": [
    {
     "data": {
      "image/png": "[encoded data removed]",
      "text/plain": [
       "<Figure size 432x288 with 1 Axes>"
      ]
     },
     "metadata": {
      "needs_background": "light"
     },
     "output_type": "display_data"
    }
   ],
   "source": [
    "plt.hist(dane[zmienna])\n",
    "plt.title('Histogram zmiennej Estimated Gross National Income per Capita (Female)')\n",
    "plt.show()"
   ]
  },
  {
   "cell_type": "markdown",
   "metadata": {},
   "source": [
    "##  12. Opis zmiennej ,,Estimated Gross National Income per Capita (Male)'' "
   ]
  },
  {
   "cell_type": "code",
   "execution_count": 27,
   "metadata": {},
   "outputs": [
    {
     "data": {
      "text/plain": [
       "count       161.000000\n",
       "mean      22445.360248\n",
       "std       23646.740275\n",
       "min         689.000000\n",
       "25%        5468.000000\n",
       "50%       14754.000000\n",
       "75%       30320.000000\n",
       "max      143979.000000\n",
       "Name: Estimated Gross National Income per Capita (Male), dtype: float64"
      ]
     },
     "execution_count": 27,
     "metadata": {},
     "output_type": "execute_result"
    }
   ],
   "source": [
    "zmienna = 'Estimated Gross National Income per Capita (Male)'\n",
    "dane[zmienna].describe()"
   ]
  },
  {
   "cell_type": "code",
   "execution_count": 28,
   "metadata": {},
   "outputs": [
    {
     "data": {
      "image/png": "[encoded data removed]",
      "text/plain": [
       "<Figure size 432x288 with 1 Axes>"
      ]
     },
     "metadata": {
      "needs_background": "light"
     },
     "output_type": "display_data"
    }
   ],
   "source": [
    "plt.hist(dane[zmienna])\n",
    "plt.title('Histogram zmiennej Estimated Gross National Income per Capita (Male)')\n",
    "plt.show()"
   ]
  },
  {
   "cell_type": "markdown",
   "metadata": {},
   "source": [
    "## 13. Średnie wartości każdej zmiennej w zależności od kontynentu "
   ]
  },
  {
   "cell_type": "code",
   "execution_count": 34,
   "metadata": {},
   "outputs": [
    {
     "data": {
      "text/html": [
       "<div>\n",
       "<style scoped>\n",
       "    .dataframe tbody tr th:only-of-type {\n",
       "        vertical-align: middle;\n",
       "    }\n",
       "\n",
       "    .dataframe tbody tr th {\n",
       "        vertical-align: top;\n",
       "    }\n",
       "\n",
       "    .dataframe thead th {\n",
       "        text-align: right;\n",
       "    }\n",
       "</style>\n",
       "<table border=\"1\" class=\"dataframe\">\n",
       "  <thead>\n",
       "    <tr style=\"text-align: right;\">\n",
       "      <th></th>\n",
       "      <th>Gender Development Index (GDI)</th>\n",
       "      <th>Human Development Index (Female)</th>\n",
       "      <th>Human Development Index (Male)</th>\n",
       "      <th>Life Expectancy at Birth (Female)</th>\n",
       "      <th>Life Expectancy at Birth (Male)</th>\n",
       "      <th>Expected Years of Education (Female)</th>\n",
       "      <th>Expected Years of Education (Male)</th>\n",
       "      <th>Mean Years of Education (Female)</th>\n",
       "      <th>Mean Years of Education (Male)</th>\n",
       "      <th>Estimated Gross National Income per Capita (Female)</th>\n",
       "      <th>Estimated Gross National Income per Capita (Male)</th>\n",
       "    </tr>\n",
       "    <tr>\n",
       "      <th>Continent</th>\n",
       "      <th></th>\n",
       "      <th></th>\n",
       "      <th></th>\n",
       "      <th></th>\n",
       "      <th></th>\n",
       "      <th></th>\n",
       "      <th></th>\n",
       "      <th></th>\n",
       "      <th></th>\n",
       "      <th></th>\n",
       "      <th></th>\n",
       "    </tr>\n",
       "  </thead>\n",
       "  <tbody>\n",
       "    <tr>\n",
       "      <th>Africa</th>\n",
       "      <td>0.871386</td>\n",
       "      <td>0.480977</td>\n",
       "      <td>0.548568</td>\n",
       "      <td>62.659091</td>\n",
       "      <td>59.700000</td>\n",
       "      <td>9.997727</td>\n",
       "      <td>10.875000</td>\n",
       "      <td>4.175000</td>\n",
       "      <td>5.693182</td>\n",
       "      <td>2865.886364</td>\n",
       "      <td>5777.159091</td>\n",
       "    </tr>\n",
       "    <tr>\n",
       "      <th>Asia</th>\n",
       "      <td>0.913605</td>\n",
       "      <td>0.681488</td>\n",
       "      <td>0.740651</td>\n",
       "      <td>75.606977</td>\n",
       "      <td>70.909302</td>\n",
       "      <td>12.934884</td>\n",
       "      <td>13.030233</td>\n",
       "      <td>7.567442</td>\n",
       "      <td>8.606977</td>\n",
       "      <td>13241.883721</td>\n",
       "      <td>30001.930233</td>\n",
       "    </tr>\n",
       "    <tr>\n",
       "      <th>Australia and Oceania</th>\n",
       "      <td>0.950667</td>\n",
       "      <td>0.747833</td>\n",
       "      <td>0.784667</td>\n",
       "      <td>77.983333</td>\n",
       "      <td>72.950000</td>\n",
       "      <td>15.850000</td>\n",
       "      <td>15.216667</td>\n",
       "      <td>10.733333</td>\n",
       "      <td>11.100000</td>\n",
       "      <td>11937.333333</td>\n",
       "      <td>19963.833333</td>\n",
       "    </tr>\n",
       "    <tr>\n",
       "      <th>Europe</th>\n",
       "      <td>0.981718</td>\n",
       "      <td>0.838641</td>\n",
       "      <td>0.854923</td>\n",
       "      <td>81.356410</td>\n",
       "      <td>75.271795</td>\n",
       "      <td>16.138462</td>\n",
       "      <td>15.333333</td>\n",
       "      <td>11.082051</td>\n",
       "      <td>11.512821</td>\n",
       "      <td>23197.871795</td>\n",
       "      <td>36523.512821</td>\n",
       "    </tr>\n",
       "    <tr>\n",
       "      <th>North America</th>\n",
       "      <td>0.975250</td>\n",
       "      <td>0.730000</td>\n",
       "      <td>0.747750</td>\n",
       "      <td>78.281250</td>\n",
       "      <td>72.687500</td>\n",
       "      <td>13.637500</td>\n",
       "      <td>12.768750</td>\n",
       "      <td>9.125000</td>\n",
       "      <td>9.062500</td>\n",
       "      <td>11791.312500</td>\n",
       "      <td>19282.250000</td>\n",
       "    </tr>\n",
       "    <tr>\n",
       "      <th>South America</th>\n",
       "      <td>0.971077</td>\n",
       "      <td>0.718615</td>\n",
       "      <td>0.739308</td>\n",
       "      <td>76.900000</td>\n",
       "      <td>70.838462</td>\n",
       "      <td>14.407692</td>\n",
       "      <td>13.284615</td>\n",
       "      <td>8.315385</td>\n",
       "      <td>8.507692</td>\n",
       "      <td>9212.461538</td>\n",
       "      <td>16669.923077</td>\n",
       "    </tr>\n",
       "  </tbody>\n",
       "</table>\n",
       "</div>"
      ],
      "text/plain": [
       "                       Gender Development Index (GDI)  \\\n",
       "Continent                                               \n",
       "Africa                                       0.871386   \n",
       "Asia                                         0.913605   \n",
       "Australia and Oceania                        0.950667   \n",
       "Europe                                       0.981718   \n",
       "North America                                0.975250   \n",
       "South America                                0.971077   \n",
       "\n",
       "                       Human Development Index (Female)  \\\n",
       "Continent                                                 \n",
       "Africa                                         0.480977   \n",
       "Asia                                           0.681488   \n",
       "Australia and Oceania                          0.747833   \n",
       "Europe                                         0.838641   \n",
       "North America                                  0.730000   \n",
       "South America                                  0.718615   \n",
       "\n",
       "                       Human Development Index (Male)  \\\n",
       "Continent                                               \n",
       "Africa                                       0.548568   \n",
       "Asia                                         0.740651   \n",
       "Australia and Oceania                        0.784667   \n",
       "Europe                                       0.854923   \n",
       "North America                                0.747750   \n",
       "South America                                0.739308   \n",
       "\n",
       "                       Life Expectancy at Birth (Female)  \\\n",
       "Continent                                                  \n",
       "Africa                                         62.659091   \n",
       "Asia                                           75.606977   \n",
       "Australia and Oceania                          77.983333   \n",
       "Europe                                         81.356410   \n",
       "North America                                  78.281250   \n",
       "South America                                  76.900000   \n",
       "\n",
       "                       Life Expectancy at Birth (Male)  \\\n",
       "Continent                                                \n",
       "Africa                                       59.700000   \n",
       "Asia                                         70.909302   \n",
       "Australia and Oceania                        72.950000   \n",
       "Europe                                       75.271795   \n",
       "North America                                72.687500   \n",
       "South America                                70.838462   \n",
       "\n",
       "                       Expected Years of Education (Female)  \\\n",
       "Continent                                                     \n",
       "Africa                                             9.997727   \n",
       "Asia                                              12.934884   \n",
       "Australia and Oceania                             15.850000   \n",
       "Europe                                            16.138462   \n",
       "North America                                     13.637500   \n",
       "South America                                     14.407692   \n",
       "\n",
       "                       Expected Years of Education (Male)  \\\n",
       "Continent                                                   \n",
       "Africa                                          10.875000   \n",
       "Asia                                            13.030233   \n",
       "Australia and Oceania                           15.216667   \n",
       "Europe                                          15.333333   \n",
       "North America                                   12.768750   \n",
       "South America                                   13.284615   \n",
       "\n",
       "                       Mean Years of Education (Female)  \\\n",
       "Continent                                                 \n",
       "Africa                                         4.175000   \n",
       "Asia                                           7.567442   \n",
       "Australia and Oceania                         10.733333   \n",
       "Europe                                        11.082051   \n",
       "North America                                  9.125000   \n",
       "South America                                  8.315385   \n",
       "\n",
       "                       Mean Years of Education (Male)  \\\n",
       "Continent                                               \n",
       "Africa                                       5.693182   \n",
       "Asia                                         8.606977   \n",
       "Australia and Oceania                       11.100000   \n",
       "Europe                                      11.512821   \n",
       "North America                                9.062500   \n",
       "South America                                8.507692   \n",
       "\n",
       "                       Estimated Gross National Income per Capita (Female)  \\\n",
       "Continent                                                                    \n",
       "Africa                                                       2865.886364     \n",
       "Asia                                                        13241.883721     \n",
       "Australia and Oceania                                       11937.333333     \n",
       "Europe                                                      23197.871795     \n",
       "North America                                               11791.312500     \n",
       "South America                                                9212.461538     \n",
       "\n",
       "                       Estimated Gross National Income per Capita (Male)  \n",
       "Continent                                                                 \n",
       "Africa                                                       5777.159091  \n",
       "Asia                                                        30001.930233  \n",
       "Australia and Oceania                                       19963.833333  \n",
       "Europe                                                      36523.512821  \n",
       "North America                                               19282.250000  \n",
       "South America                                               16669.923077  "
      ]
     },
     "execution_count": 34,
     "metadata": {},
     "output_type": "execute_result"
    }
   ],
   "source": [
    "dane.groupby('Continent')[['Gender Development Index (GDI)','Human Development Index (Female)','Human Development Index (Male)','Life Expectancy at Birth (Female)','Life Expectancy at Birth (Male)','Expected Years of Education (Female)','Expected Years of Education (Male)','Mean Years of Education (Female)','Mean Years of Education (Male)','Estimated Gross National Income per Capita (Female)','Estimated Gross National Income per Capita (Male)']].mean()"
   ]
  },
  {
   "cell_type": "markdown",
   "metadata": {},
   "source": [
    "## 14. Wykres średniego wartości Gender Development Index w zależności od kontynetu"
   ]
  },
  {
   "cell_type": "code",
   "execution_count": 40,
   "metadata": {},
   "outputs": [
    {
     "data": {
      "image/png": "[encoded data removed]",
      "text/plain": [
       "<Figure size 432x288 with 1 Axes>"
      ]
     },
     "metadata": {
      "needs_background": "light"
     },
     "output_type": "display_data"
    }
   ],
   "source": [
    "kontynenty = ['Africa','Asia','Australia and Oceania','Europe','North America','South America']\n",
    "GDI = [0.871386,0.913605,0.950667,0.981718,0.975250,0.971077]\n",
    "plt.bar(kontynenty, GDI)\n",
    "plt.ylabel('Średni GDI')\n",
    "plt.title('GDI poszczególnych kontytnetów')\n",
    "plt.show()"
   ]
  },
  {
   "cell_type": "markdown",
   "metadata": {},
   "source": [
    "## 15. Korelacja zmiennych ,,Continent\" oraz ,,Gender development\" - Test χ2"
   ]
  },
  {
   "cell_type": "markdown",
   "metadata": {},
   "source": [
    "### Tabela krzyżowa"
   ]
  },
  {
   "cell_type": "code",
   "execution_count": 30,
   "metadata": {},
   "outputs": [
    {
     "data": {
      "text/html": [
       "<div>\n",
       "<style scoped>\n",
       "    .dataframe tbody tr th:only-of-type {\n",
       "        vertical-align: middle;\n",
       "    }\n",
       "\n",
       "    .dataframe tbody tr th {\n",
       "        vertical-align: top;\n",
       "    }\n",
       "\n",
       "    .dataframe thead th {\n",
       "        text-align: right;\n",
       "    }\n",
       "</style>\n",
       "<table border=\"1\" class=\"dataframe\">\n",
       "  <thead>\n",
       "    <tr style=\"text-align: right;\">\n",
       "      <th>Gender development</th>\n",
       "      <th>average</th>\n",
       "      <th>high</th>\n",
       "      <th>low</th>\n",
       "    </tr>\n",
       "    <tr>\n",
       "      <th>Continent</th>\n",
       "      <th></th>\n",
       "      <th></th>\n",
       "      <th></th>\n",
       "    </tr>\n",
       "  </thead>\n",
       "  <tbody>\n",
       "    <tr>\n",
       "      <th>Africa</th>\n",
       "      <td>24</td>\n",
       "      <td>2</td>\n",
       "      <td>18</td>\n",
       "    </tr>\n",
       "    <tr>\n",
       "      <th>Asia</th>\n",
       "      <td>27</td>\n",
       "      <td>10</td>\n",
       "      <td>6</td>\n",
       "    </tr>\n",
       "    <tr>\n",
       "      <th>Australia and Oceania</th>\n",
       "      <td>5</td>\n",
       "      <td>1</td>\n",
       "      <td>0</td>\n",
       "    </tr>\n",
       "    <tr>\n",
       "      <th>Europe</th>\n",
       "      <td>12</td>\n",
       "      <td>27</td>\n",
       "      <td>0</td>\n",
       "    </tr>\n",
       "    <tr>\n",
       "      <th>North America</th>\n",
       "      <td>7</td>\n",
       "      <td>9</td>\n",
       "      <td>0</td>\n",
       "    </tr>\n",
       "    <tr>\n",
       "      <th>South America</th>\n",
       "      <td>5</td>\n",
       "      <td>8</td>\n",
       "      <td>0</td>\n",
       "    </tr>\n",
       "  </tbody>\n",
       "</table>\n",
       "</div>"
      ],
      "text/plain": [
       "Gender development     average  high  low\n",
       "Continent                                \n",
       "Africa                      24     2   18\n",
       "Asia                        27    10    6\n",
       "Australia and Oceania        5     1    0\n",
       "Europe                      12    27    0\n",
       "North America                7     9    0\n",
       "South America                5     8    0"
      ]
     },
     "execution_count": 30,
     "metadata": {},
     "output_type": "execute_result"
    }
   ],
   "source": [
    "confusion_matrix = pd.crosstab(dane['Continent'], dane['Gender development'])\n",
    "confusion_matrix"
   ]
  },
  {
   "cell_type": "markdown",
   "metadata": {},
   "source": [
    "### Wartość statystyki testowej"
   ]
  },
  {
   "cell_type": "code",
   "execution_count": 31,
   "metadata": {},
   "outputs": [
    {
     "data": {
      "text/plain": [
       "68.62674770415649"
      ]
     },
     "execution_count": 31,
     "metadata": {},
     "output_type": "execute_result"
    }
   ],
   "source": [
    "st.chi2_contingency(confusion_matrix)[0]"
   ]
  },
  {
   "cell_type": "markdown",
   "metadata": {},
   "source": [
    "### Ilość stopni swobody"
   ]
  },
  {
   "cell_type": "code",
   "execution_count": 32,
   "metadata": {},
   "outputs": [
    {
     "data": {
      "text/plain": [
       "10"
      ]
     },
     "execution_count": 32,
     "metadata": {},
     "output_type": "execute_result"
    }
   ],
   "source": [
    "st.chi2_contingency(confusion_matrix)[2]"
   ]
  },
  {
   "cell_type": "markdown",
   "metadata": {},
   "source": [
    "### Istotność"
   ]
  },
  {
   "cell_type": "code",
   "execution_count": 33,
   "metadata": {},
   "outputs": [
    {
     "data": {
      "text/plain": [
       "8.158348632609732e-11"
      ]
     },
     "execution_count": 33,
     "metadata": {},
     "output_type": "execute_result"
    }
   ],
   "source": [
    "st.chi2_contingency(confusion_matrix)[1]"
   ]
  },
  {
   "cell_type": "markdown",
   "metadata": {},
   "source": [
    "### Istotność jest mniejsza od 0.001, wieć możemy swobodnie odrzucić hipotezę zerową, która mówi o niezależności dwóch zmiennych i stwierdzić, że zmienna ,,Gender Development\" jest zależna od zmiennej ,,Continent\"."
   ]
  },
  {
   "cell_type": "code",
   "execution_count": null,
   "metadata": {},
   "outputs": [],
   "source": []
  }
 ],
 "metadata": {
  "kernelspec": {
   "display_name": "Python 3",
   "language": "python",
   "name": "python3"
  },
  "language_info": {
   "codemirror_mode": {
    "name": "ipython",
    "version": 3
   },
   "file_extension": ".py",
   "mimetype": "text/x-python",
   "name": "python",
   "nbconvert_exporter": "python",
   "pygments_lexer": "ipython3",
   "version": "3.7.2"
  }
 },
 "nbformat": 4,
 "nbformat_minor": 2
}
