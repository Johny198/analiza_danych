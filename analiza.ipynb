{
 "cells": [
  {
   "cell_type": "markdown",
   "metadata": {
    "scrolled": true
   },
   "source": [
    "# Analiza bazy danych ,,Human Development\""
   ]
  },
  {
   "cell_type": "markdown",
   "metadata": {},
   "source": [
    "## 1. Importowanie paczek python'owych, wczytanie pliku danych oraz wyczyszczenie danych"
   ]
  },
  {
   "cell_type": "code",
   "execution_count": 2,
   "metadata": {},
   "outputs": [],
   "source": [
    "import pandas as pd\n",
    "import scipy.stats as st\n",
    "import numpy as np\n",
    "import matplotlib.pyplot as plt\n",
    "from scipy.stats import ttest_ind"
   ]
  },
  {
   "cell_type": "code",
   "execution_count": 7,
   "metadata": {},
   "outputs": [],
   "source": [
    "dane_kontynenty = pd.read_csv('continents.csv', sep=';')\n",
    "dane_panstwa = pd.read_csv('gender_development.csv', sep=',',na_values = '..')"
   ]
  },
  {
   "cell_type": "code",
   "execution_count": 8,
   "metadata": {},
   "outputs": [],
   "source": [
    "dane = pd.concat([dane_panstwa, dane_kontynenty,], axis = 1)\n",
    "dane = dane.drop([188,189,190,191,192,193,194],axis=0)"
   ]
  },
  {
   "cell_type": "code",
   "execution_count": 3,
   "metadata": {},
   "outputs": [
    {
     "ename": "NameError",
     "evalue": "name 'dane' is not defined",
     "output_type": "error",
     "traceback": [
      "\u001b[1;31m---------------------------------------------------------------------------\u001b[0m",
      "\u001b[1;31mNameError\u001b[0m                                 Traceback (most recent call last)",
      "\u001b[1;32m<ipython-input-3-cc535233e85f>\u001b[0m in \u001b[0;36m<module>\u001b[1;34m\u001b[0m\n\u001b[1;32m----> 1\u001b[1;33m \u001b[0mdane\u001b[0m\u001b[1;33m.\u001b[0m\u001b[0mto_csv\u001b[0m\u001b[1;33m(\u001b[0m\u001b[1;34m'human_development.csv'\u001b[0m\u001b[1;33m)\u001b[0m\u001b[1;33m\u001b[0m\u001b[1;33m\u001b[0m\u001b[0m\n\u001b[0m",
      "\u001b[1;31mNameError\u001b[0m: name 'dane' is not defined"
     ]
    }
   ],
   "source": [
    "dane.to_csv('human_development.csv')"
   ]
  },
  {
   "cell_type": "code",
   "execution_count": 10,
   "metadata": {},
   "outputs": [],
   "source": [
    "dane[\"Gender development\"] = dane[\"Gender development\"].str.lower()"
   ]
  },
  {
   "cell_type": "code",
   "execution_count": 11,
   "metadata": {},
   "outputs": [],
   "source": [
    "dane = dane.drop([\"GDI Rank\"], axis = 1)"
   ]
  },
  {
   "cell_type": "code",
   "execution_count": 12,
   "metadata": {},
   "outputs": [],
   "source": [
    "dane = dane.dropna()"
   ]
  },
  {
   "cell_type": "code",
   "execution_count": 4,
   "metadata": {},
   "outputs": [],
   "source": [
    "dane = pd.read_csv('human_development.csv')"
   ]
  },
  {
   "cell_type": "markdown",
   "metadata": {},
   "source": [
    "## 2. Dane"
   ]
  },
  {
   "cell_type": "code",
   "execution_count": 14,
   "metadata": {},
   "outputs": [
    {
     "data": {
      "text/html": [
       "<div>\n",
       "<style scoped>\n",
       "    .dataframe tbody tr th:only-of-type {\n",
       "        vertical-align: middle;\n",
       "    }\n",
       "\n",
       "    .dataframe tbody tr th {\n",
       "        vertical-align: top;\n",
       "    }\n",
       "\n",
       "    .dataframe thead th {\n",
       "        text-align: right;\n",
       "    }\n",
       "</style>\n",
       "<table border=\"1\" class=\"dataframe\">\n",
       "  <thead>\n",
       "    <tr style=\"text-align: right;\">\n",
       "      <th></th>\n",
       "      <th>Unnamed: 0</th>\n",
       "      <th>GDI Rank</th>\n",
       "      <th>Country</th>\n",
       "      <th>Gender Development Index (GDI)</th>\n",
       "      <th>Human Development Index (Female)</th>\n",
       "      <th>Human Development Index (Male)</th>\n",
       "      <th>Life Expectancy at Birth (Female)</th>\n",
       "      <th>Life Expectancy at Birth (Male)</th>\n",
       "      <th>Expected Years of Education (Female)</th>\n",
       "      <th>Expected Years of Education (Male)</th>\n",
       "      <th>Mean Years of Education (Female)</th>\n",
       "      <th>Mean Years of Education (Male)</th>\n",
       "      <th>Estimated Gross National Income per Capita (Female)</th>\n",
       "      <th>Estimated Gross National Income per Capita (Male)</th>\n",
       "      <th>Continent</th>\n",
       "      <th>Gender development</th>\n",
       "    </tr>\n",
       "  </thead>\n",
       "  <tbody>\n",
       "    <tr>\n",
       "      <th>0</th>\n",
       "      <td>0</td>\n",
       "      <td>1.0</td>\n",
       "      <td>Norway</td>\n",
       "      <td>0.996</td>\n",
       "      <td>0.940</td>\n",
       "      <td>0.944</td>\n",
       "      <td>83.6</td>\n",
       "      <td>79.5</td>\n",
       "      <td>18.2</td>\n",
       "      <td>16.8</td>\n",
       "      <td>12.7</td>\n",
       "      <td>12.5</td>\n",
       "      <td>57140.0</td>\n",
       "      <td>72825.0</td>\n",
       "      <td>Europe</td>\n",
       "      <td>HIGH</td>\n",
       "    </tr>\n",
       "    <tr>\n",
       "      <th>1</th>\n",
       "      <td>1</td>\n",
       "      <td>2.0</td>\n",
       "      <td>Australia</td>\n",
       "      <td>0.976</td>\n",
       "      <td>0.922</td>\n",
       "      <td>0.945</td>\n",
       "      <td>84.5</td>\n",
       "      <td>80.3</td>\n",
       "      <td>20.7</td>\n",
       "      <td>19.7</td>\n",
       "      <td>13.1</td>\n",
       "      <td>12.9</td>\n",
       "      <td>33688.0</td>\n",
       "      <td>50914.0</td>\n",
       "      <td>Australia and Oceania</td>\n",
       "      <td>HIGH</td>\n",
       "    </tr>\n",
       "    <tr>\n",
       "      <th>2</th>\n",
       "      <td>2</td>\n",
       "      <td>3.0</td>\n",
       "      <td>Switzerland</td>\n",
       "      <td>0.950</td>\n",
       "      <td>0.898</td>\n",
       "      <td>0.945</td>\n",
       "      <td>85.0</td>\n",
       "      <td>80.8</td>\n",
       "      <td>15.7</td>\n",
       "      <td>15.9</td>\n",
       "      <td>11.5</td>\n",
       "      <td>13.1</td>\n",
       "      <td>44132.0</td>\n",
       "      <td>69077.0</td>\n",
       "      <td>Europe</td>\n",
       "      <td>AVERAGE</td>\n",
       "    </tr>\n",
       "    <tr>\n",
       "      <th>3</th>\n",
       "      <td>3</td>\n",
       "      <td>4.0</td>\n",
       "      <td>Denmark</td>\n",
       "      <td>0.977</td>\n",
       "      <td>0.912</td>\n",
       "      <td>0.934</td>\n",
       "      <td>82.2</td>\n",
       "      <td>78.3</td>\n",
       "      <td>19.3</td>\n",
       "      <td>18.1</td>\n",
       "      <td>12.8</td>\n",
       "      <td>12.7</td>\n",
       "      <td>36439.0</td>\n",
       "      <td>51727.0</td>\n",
       "      <td>Europe</td>\n",
       "      <td>HIGH</td>\n",
       "    </tr>\n",
       "    <tr>\n",
       "      <th>4</th>\n",
       "      <td>4</td>\n",
       "      <td>5.0</td>\n",
       "      <td>Netherlands</td>\n",
       "      <td>0.947</td>\n",
       "      <td>0.893</td>\n",
       "      <td>0.943</td>\n",
       "      <td>83.3</td>\n",
       "      <td>79.7</td>\n",
       "      <td>18.0</td>\n",
       "      <td>17.9</td>\n",
       "      <td>11.6</td>\n",
       "      <td>12.2</td>\n",
       "      <td>29500.0</td>\n",
       "      <td>61641.0</td>\n",
       "      <td>Europe</td>\n",
       "      <td>AVERAGE</td>\n",
       "    </tr>\n",
       "    <tr>\n",
       "      <th>...</th>\n",
       "      <td>...</td>\n",
       "      <td>...</td>\n",
       "      <td>...</td>\n",
       "      <td>...</td>\n",
       "      <td>...</td>\n",
       "      <td>...</td>\n",
       "      <td>...</td>\n",
       "      <td>...</td>\n",
       "      <td>...</td>\n",
       "      <td>...</td>\n",
       "      <td>...</td>\n",
       "      <td>...</td>\n",
       "      <td>...</td>\n",
       "      <td>...</td>\n",
       "      <td>...</td>\n",
       "      <td>...</td>\n",
       "    </tr>\n",
       "    <tr>\n",
       "      <th>183</th>\n",
       "      <td>183</td>\n",
       "      <td>184.0</td>\n",
       "      <td>Burundi</td>\n",
       "      <td>0.911</td>\n",
       "      <td>0.381</td>\n",
       "      <td>0.418</td>\n",
       "      <td>58.7</td>\n",
       "      <td>54.8</td>\n",
       "      <td>9.6</td>\n",
       "      <td>10.7</td>\n",
       "      <td>2.2</td>\n",
       "      <td>3.1</td>\n",
       "      <td>693.0</td>\n",
       "      <td>825.0</td>\n",
       "      <td>Africa</td>\n",
       "      <td>AVERAGE</td>\n",
       "    </tr>\n",
       "    <tr>\n",
       "      <th>184</th>\n",
       "      <td>184</td>\n",
       "      <td>185.0</td>\n",
       "      <td>Chad</td>\n",
       "      <td>0.768</td>\n",
       "      <td>0.338</td>\n",
       "      <td>0.440</td>\n",
       "      <td>52.7</td>\n",
       "      <td>50.5</td>\n",
       "      <td>5.9</td>\n",
       "      <td>8.9</td>\n",
       "      <td>1.0</td>\n",
       "      <td>2.9</td>\n",
       "      <td>1657.0</td>\n",
       "      <td>2513.0</td>\n",
       "      <td>Africa</td>\n",
       "      <td>LOW</td>\n",
       "    </tr>\n",
       "    <tr>\n",
       "      <th>185</th>\n",
       "      <td>185</td>\n",
       "      <td>186.0</td>\n",
       "      <td>Eritrea</td>\n",
       "      <td>NaN</td>\n",
       "      <td>NaN</td>\n",
       "      <td>NaN</td>\n",
       "      <td>65.9</td>\n",
       "      <td>61.6</td>\n",
       "      <td>NaN</td>\n",
       "      <td>NaN</td>\n",
       "      <td>NaN</td>\n",
       "      <td>NaN</td>\n",
       "      <td>971.0</td>\n",
       "      <td>1290.0</td>\n",
       "      <td>Africa</td>\n",
       "      <td>LOW</td>\n",
       "    </tr>\n",
       "    <tr>\n",
       "      <th>186</th>\n",
       "      <td>186</td>\n",
       "      <td>187.0</td>\n",
       "      <td>Central African Republic</td>\n",
       "      <td>0.773</td>\n",
       "      <td>0.303</td>\n",
       "      <td>0.392</td>\n",
       "      <td>52.6</td>\n",
       "      <td>48.8</td>\n",
       "      <td>5.9</td>\n",
       "      <td>8.6</td>\n",
       "      <td>2.8</td>\n",
       "      <td>5.7</td>\n",
       "      <td>476.0</td>\n",
       "      <td>689.0</td>\n",
       "      <td>Africa</td>\n",
       "      <td>LOW</td>\n",
       "    </tr>\n",
       "    <tr>\n",
       "      <th>187</th>\n",
       "      <td>187</td>\n",
       "      <td>188.0</td>\n",
       "      <td>Niger</td>\n",
       "      <td>0.729</td>\n",
       "      <td>0.287</td>\n",
       "      <td>0.394</td>\n",
       "      <td>62.4</td>\n",
       "      <td>60.6</td>\n",
       "      <td>4.8</td>\n",
       "      <td>6.1</td>\n",
       "      <td>0.8</td>\n",
       "      <td>2.0</td>\n",
       "      <td>491.0</td>\n",
       "      <td>1319.0</td>\n",
       "      <td>Africa</td>\n",
       "      <td>LOW</td>\n",
       "    </tr>\n",
       "  </tbody>\n",
       "</table>\n",
       "<p>188 rows × 16 columns</p>\n",
       "</div>"
      ],
      "text/plain": [
       "     Unnamed: 0  GDI Rank                   Country  \\\n",
       "0             0       1.0                    Norway   \n",
       "1             1       2.0                 Australia   \n",
       "2             2       3.0               Switzerland   \n",
       "3             3       4.0                   Denmark   \n",
       "4             4       5.0               Netherlands   \n",
       "..          ...       ...                       ...   \n",
       "183         183     184.0                   Burundi   \n",
       "184         184     185.0                      Chad   \n",
       "185         185     186.0                   Eritrea   \n",
       "186         186     187.0  Central African Republic   \n",
       "187         187     188.0                     Niger   \n",
       "\n",
       "     Gender Development Index (GDI)  Human Development Index (Female)  \\\n",
       "0                             0.996                             0.940   \n",
       "1                             0.976                             0.922   \n",
       "2                             0.950                             0.898   \n",
       "3                             0.977                             0.912   \n",
       "4                             0.947                             0.893   \n",
       "..                              ...                               ...   \n",
       "183                           0.911                             0.381   \n",
       "184                           0.768                             0.338   \n",
       "185                             NaN                               NaN   \n",
       "186                           0.773                             0.303   \n",
       "187                           0.729                             0.287   \n",
       "\n",
       "     Human Development Index (Male)  Life Expectancy at Birth (Female)  \\\n",
       "0                             0.944                               83.6   \n",
       "1                             0.945                               84.5   \n",
       "2                             0.945                               85.0   \n",
       "3                             0.934                               82.2   \n",
       "4                             0.943                               83.3   \n",
       "..                              ...                                ...   \n",
       "183                           0.418                               58.7   \n",
       "184                           0.440                               52.7   \n",
       "185                             NaN                               65.9   \n",
       "186                           0.392                               52.6   \n",
       "187                           0.394                               62.4   \n",
       "\n",
       "     Life Expectancy at Birth (Male)  Expected Years of Education (Female)  \\\n",
       "0                               79.5                                  18.2   \n",
       "1                               80.3                                  20.7   \n",
       "2                               80.8                                  15.7   \n",
       "3                               78.3                                  19.3   \n",
       "4                               79.7                                  18.0   \n",
       "..                               ...                                   ...   \n",
       "183                             54.8                                   9.6   \n",
       "184                             50.5                                   5.9   \n",
       "185                             61.6                                   NaN   \n",
       "186                             48.8                                   5.9   \n",
       "187                             60.6                                   4.8   \n",
       "\n",
       "     Expected Years of Education (Male)  Mean Years of Education (Female)  \\\n",
       "0                                  16.8                              12.7   \n",
       "1                                  19.7                              13.1   \n",
       "2                                  15.9                              11.5   \n",
       "3                                  18.1                              12.8   \n",
       "4                                  17.9                              11.6   \n",
       "..                                  ...                               ...   \n",
       "183                                10.7                               2.2   \n",
       "184                                 8.9                               1.0   \n",
       "185                                 NaN                               NaN   \n",
       "186                                 8.6                               2.8   \n",
       "187                                 6.1                               0.8   \n",
       "\n",
       "     Mean Years of Education (Male)  \\\n",
       "0                              12.5   \n",
       "1                              12.9   \n",
       "2                              13.1   \n",
       "3                              12.7   \n",
       "4                              12.2   \n",
       "..                              ...   \n",
       "183                             3.1   \n",
       "184                             2.9   \n",
       "185                             NaN   \n",
       "186                             5.7   \n",
       "187                             2.0   \n",
       "\n",
       "     Estimated Gross National Income per Capita (Female)  \\\n",
       "0                                              57140.0     \n",
       "1                                              33688.0     \n",
       "2                                              44132.0     \n",
       "3                                              36439.0     \n",
       "4                                              29500.0     \n",
       "..                                                 ...     \n",
       "183                                              693.0     \n",
       "184                                             1657.0     \n",
       "185                                              971.0     \n",
       "186                                              476.0     \n",
       "187                                              491.0     \n",
       "\n",
       "     Estimated Gross National Income per Capita (Male)              Continent  \\\n",
       "0                                              72825.0                 Europe   \n",
       "1                                              50914.0  Australia and Oceania   \n",
       "2                                              69077.0                 Europe   \n",
       "3                                              51727.0                 Europe   \n",
       "4                                              61641.0                 Europe   \n",
       "..                                                 ...                    ...   \n",
       "183                                              825.0                 Africa   \n",
       "184                                             2513.0                 Africa   \n",
       "185                                             1290.0                 Africa   \n",
       "186                                              689.0                 Africa   \n",
       "187                                             1319.0                 Africa   \n",
       "\n",
       "    Gender development  \n",
       "0                 HIGH  \n",
       "1                 HIGH  \n",
       "2              AVERAGE  \n",
       "3                 HIGH  \n",
       "4              AVERAGE  \n",
       "..                 ...  \n",
       "183            AVERAGE  \n",
       "184                LOW  \n",
       "185                LOW  \n",
       "186                LOW  \n",
       "187                LOW  \n",
       "\n",
       "[188 rows x 16 columns]"
      ]
     },
     "execution_count": 14,
     "metadata": {},
     "output_type": "execute_result"
    }
   ],
   "source": [
    "dane"
   ]
  },
  {
   "cell_type": "markdown",
   "metadata": {},
   "source": [
    "## 3. Opis zmiennej ,,Human Development Index (Female)\""
   ]
  },
  {
   "cell_type": "code",
   "execution_count": 9,
   "metadata": {},
   "outputs": [
    {
     "data": {
      "text/plain": [
       "count    161.000000\n",
       "mean       0.675050\n",
       "std        0.168321\n",
       "min        0.287000\n",
       "25%        0.541000\n",
       "50%        0.711000\n",
       "75%        0.812000\n",
       "max        0.940000\n",
       "Name: Human Development Index (Female), dtype: float64"
      ]
     },
     "execution_count": 9,
     "metadata": {},
     "output_type": "execute_result"
    }
   ],
   "source": [
    "zmienna = 'Human Development Index (Female)'\n",
    "dane[zmienna].describe()"
   ]
  },
  {
   "cell_type": "code",
   "execution_count": 10,
   "metadata": {},
   "outputs": [
    {
     "data": {
      "image/png": "[encoded data removed]",
      "text/plain": [
       "<Figure size 432x288 with 1 Axes>"
      ]
     },
     "metadata": {
      "needs_background": "light"
     },
     "output_type": "display_data"
    }
   ],
   "source": [
    "plt.hist(dane[zmienna])\n",
    "plt.title('Histogram zmiennej Human Development Index (Female)')\n",
    "plt.show()"
   ]
  },
  {
   "cell_type": "markdown",
   "metadata": {},
   "source": [
    "## 4. Opis zmiennej ,,Human Development Index (Male)\""
   ]
  },
  {
   "cell_type": "code",
   "execution_count": 11,
   "metadata": {},
   "outputs": [
    {
     "data": {
      "text/plain": [
       "count    161.000000\n",
       "mean       0.718075\n",
       "std        0.145709\n",
       "min        0.392000\n",
       "25%        0.609000\n",
       "50%        0.737000\n",
       "75%        0.835000\n",
       "max        0.945000\n",
       "Name: Human Development Index (Male), dtype: float64"
      ]
     },
     "execution_count": 11,
     "metadata": {},
     "output_type": "execute_result"
    }
   ],
   "source": [
    "zmienna = 'Human Development Index (Male)'\n",
    "dane[zmienna].describe()"
   ]
  },
  {
   "cell_type": "code",
   "execution_count": 12,
   "metadata": {},
   "outputs": [
    {
     "data": {
      "image/png": "[encoded data removed]",
      "text/plain": [
       "<Figure size 432x288 with 1 Axes>"
      ]
     },
     "metadata": {
      "needs_background": "light"
     },
     "output_type": "display_data"
    }
   ],
   "source": [
    "plt.hist(dane[zmienna])\n",
    "plt.title('Histogram zmiennej Human Development Index (Male)')\n",
    "plt.show()"
   ]
  },
  {
   "cell_type": "markdown",
   "metadata": {},
   "source": [
    "## 5. Opis zmiennej ,,Life Expectancy at Birth (Female)''"
   ]
  },
  {
   "cell_type": "code",
   "execution_count": 13,
   "metadata": {},
   "outputs": [
    {
     "data": {
      "text/plain": [
       "count    161.000000\n",
       "mean      73.919876\n",
       "std        8.958584\n",
       "min       48.200000\n",
       "25%       68.300000\n",
       "50%       76.700000\n",
       "75%       80.600000\n",
       "max       86.800000\n",
       "Name: Life Expectancy at Birth (Female), dtype: float64"
      ]
     },
     "execution_count": 13,
     "metadata": {},
     "output_type": "execute_result"
    }
   ],
   "source": [
    "zmienna = 'Life Expectancy at Birth (Female)'\n",
    "dane[zmienna].describe()"
   ]
  },
  {
   "cell_type": "code",
   "execution_count": 14,
   "metadata": {},
   "outputs": [
    {
     "data": {
      "image/png": "[encoded data removed]",
      "text/plain": [
       "<Figure size 432x288 with 1 Axes>"
      ]
     },
     "metadata": {
      "needs_background": "light"
     },
     "output_type": "display_data"
    }
   ],
   "source": [
    "plt.hist(dane[zmienna])\n",
    "plt.title('Histogram zmiennej Life Expectancy at Birth (Female)')\n",
    "plt.show()"
   ]
  },
  {
   "cell_type": "markdown",
   "metadata": {},
   "source": [
    "## 6. Opis zmiennej ,,Life Expectancy at Birth (Male)''"
   ]
  },
  {
   "cell_type": "code",
   "execution_count": 15,
   "metadata": {},
   "outputs": [
    {
     "data": {
      "text/plain": [
       "count    161.000000\n",
       "mean      69.149689\n",
       "std        8.004148\n",
       "min       48.800000\n",
       "25%       64.400000\n",
       "50%       70.700000\n",
       "75%       75.400000\n",
       "max       81.200000\n",
       "Name: Life Expectancy at Birth (Male), dtype: float64"
      ]
     },
     "execution_count": 15,
     "metadata": {},
     "output_type": "execute_result"
    }
   ],
   "source": [
    "zmienna = 'Life Expectancy at Birth (Male)'\n",
    "dane[zmienna].describe()"
   ]
  },
  {
   "cell_type": "code",
   "execution_count": 16,
   "metadata": {},
   "outputs": [
    {
     "data": {
      "image/png": "[encoded data removed]",
      "text/plain": [
       "<Figure size 432x288 with 1 Axes>"
      ]
     },
     "metadata": {
      "needs_background": "light"
     },
     "output_type": "display_data"
    }
   ],
   "source": [
    "plt.hist(dane[zmienna])\n",
    "plt.title('Histogram zmiennej Life Expectancy at Birth (Male)')\n",
    "plt.show()"
   ]
  },
  {
   "cell_type": "markdown",
   "metadata": {},
   "source": [
    "## 7. Opis zmiennej ,,Expected Years of Education (Female)''"
   ]
  },
  {
   "cell_type": "code",
   "execution_count": 17,
   "metadata": {},
   "outputs": [
    {
     "data": {
      "text/plain": [
       "count    161.000000\n",
       "mean      13.205590\n",
       "std        3.240433\n",
       "min        4.800000\n",
       "25%       10.900000\n",
       "50%       13.600000\n",
       "75%       15.500000\n",
       "max       20.700000\n",
       "Name: Expected Years of Education (Female), dtype: float64"
      ]
     },
     "execution_count": 17,
     "metadata": {},
     "output_type": "execute_result"
    }
   ],
   "source": [
    "zmienna = 'Expected Years of Education (Female)'\n",
    "dane[zmienna].describe()"
   ]
  },
  {
   "cell_type": "code",
   "execution_count": 18,
   "metadata": {},
   "outputs": [
    {
     "data": {
      "image/png": "[encoded data removed]",
      "text/plain": [
       "<Figure size 432x288 with 1 Axes>"
      ]
     },
     "metadata": {
      "needs_background": "light"
     },
     "output_type": "display_data"
    }
   ],
   "source": [
    "plt.hist(dane[zmienna])\n",
    "plt.title('Histogram zmiennej Expected Years of Education (Female)')\n",
    "plt.show()"
   ]
  },
  {
   "cell_type": "markdown",
   "metadata": {},
   "source": [
    "## 8. Opis zmiennej ,,Expected Years of Education (Male)''"
   ]
  },
  {
   "cell_type": "code",
   "execution_count": 19,
   "metadata": {},
   "outputs": [
    {
     "data": {
      "text/plain": [
       "count    161.000000\n",
       "mean      13.075155\n",
       "std        2.469793\n",
       "min        6.100000\n",
       "25%       11.300000\n",
       "50%       13.200000\n",
       "75%       14.800000\n",
       "max       19.700000\n",
       "Name: Expected Years of Education (Male), dtype: float64"
      ]
     },
     "execution_count": 19,
     "metadata": {},
     "output_type": "execute_result"
    }
   ],
   "source": [
    "zmienna = 'Expected Years of Education (Male)'\n",
    "dane[zmienna].describe()"
   ]
  },
  {
   "cell_type": "code",
   "execution_count": 20,
   "metadata": {},
   "outputs": [
    {
     "data": {
      "image/png": "[encoded data removed]",
      "text/plain": [
       "<Figure size 432x288 with 1 Axes>"
      ]
     },
     "metadata": {
      "needs_background": "light"
     },
     "output_type": "display_data"
    }
   ],
   "source": [
    "plt.hist(dane[zmienna])\n",
    "plt.title('Histogram zmiennej Expected Years of Education (Male)')\n",
    "plt.show()"
   ]
  },
  {
   "cell_type": "markdown",
   "metadata": {},
   "source": [
    "## 9. Opis zmiennej ,,Mean Years of Education (Female)''"
   ]
  },
  {
   "cell_type": "code",
   "execution_count": 21,
   "metadata": {},
   "outputs": [
    {
     "data": {
      "text/plain": [
       "count    161.000000\n",
       "mean       7.824845\n",
       "std        3.448750\n",
       "min        0.800000\n",
       "25%        5.300000\n",
       "50%        8.400000\n",
       "75%       10.600000\n",
       "max       13.100000\n",
       "Name: Mean Years of Education (Female), dtype: float64"
      ]
     },
     "execution_count": 21,
     "metadata": {},
     "output_type": "execute_result"
    }
   ],
   "source": [
    "zmienna = 'Mean Years of Education (Female)'\n",
    "dane[zmienna].describe()"
   ]
  },
  {
   "cell_type": "code",
   "execution_count": 22,
   "metadata": {},
   "outputs": [
    {
     "data": {
      "image/png": "[encoded data removed]",
      "text/plain": [
       "<Figure size 432x288 with 1 Axes>"
      ]
     },
     "metadata": {
      "needs_background": "light"
     },
     "output_type": "display_data"
    }
   ],
   "source": [
    "plt.hist(dane[zmienna])\n",
    "plt.title('Histogram zmiennej Mean Years of Education (Female)')\n",
    "plt.show()"
   ]
  },
  {
   "cell_type": "markdown",
   "metadata": {},
   "source": [
    "## 10. Opis zmiennej ,,Mean Years of Education (Male)'' "
   ]
  },
  {
   "cell_type": "code",
   "execution_count": 23,
   "metadata": {},
   "outputs": [
    {
     "data": {
      "text/plain": [
       "count    161.00000\n",
       "mean       8.64472\n",
       "std        2.86140\n",
       "min        1.90000\n",
       "25%        6.30000\n",
       "50%        8.80000\n",
       "75%       11.10000\n",
       "max       13.80000\n",
       "Name: Mean Years of Education (Male), dtype: float64"
      ]
     },
     "execution_count": 23,
     "metadata": {},
     "output_type": "execute_result"
    }
   ],
   "source": [
    "zmienna = 'Mean Years of Education (Male)'\n",
    "dane[zmienna].describe()"
   ]
  },
  {
   "cell_type": "code",
   "execution_count": 24,
   "metadata": {},
   "outputs": [
    {
     "data": {
      "image/png": "[encoded data removed]",
      "text/plain": [
       "<Figure size 432x288 with 1 Axes>"
      ]
     },
     "metadata": {
      "needs_background": "light"
     },
     "output_type": "display_data"
    }
   ],
   "source": [
    "plt.hist(dane[zmienna])\n",
    "plt.title('Histogram zmiennej Mean Years of Education (Male)')\n",
    "plt.show()"
   ]
  },
  {
   "cell_type": "markdown",
   "metadata": {},
   "source": [
    "## 11. Opis zmiennej ,,Estimated Gross National Income per Capita (Female)'' "
   ]
  },
  {
   "cell_type": "code",
   "execution_count": 25,
   "metadata": {},
   "outputs": [
    {
     "data": {
      "text/plain": [
       "count      161.000000\n",
       "mean     12299.776398\n",
       "std      13038.303107\n",
       "min        476.000000\n",
       "25%       2365.000000\n",
       "50%       7427.000000\n",
       "75%      18423.000000\n",
       "max      59994.000000\n",
       "Name: Estimated Gross National Income per Capita (Female), dtype: float64"
      ]
     },
     "execution_count": 25,
     "metadata": {},
     "output_type": "execute_result"
    }
   ],
   "source": [
    "zmienna = 'Estimated Gross National Income per Capita (Female)'\n",
    "dane[zmienna].describe()"
   ]
  },
  {
   "cell_type": "code",
   "execution_count": 26,
   "metadata": {},
   "outputs": [
    {
     "data": {
      "image/png": "[encoded data removed]",
      "text/plain": [
       "<Figure size 432x288 with 1 Axes>"
      ]
     },
     "metadata": {
      "needs_background": "light"
     },
     "output_type": "display_data"
    }
   ],
   "source": [
    "plt.hist(dane[zmienna])\n",
    "plt.title('Histogram zmiennej Estimated Gross National Income per Capita (Female)')\n",
    "plt.show()"
   ]
  },
  {
   "cell_type": "markdown",
   "metadata": {},
   "source": [
    "##  12. Opis zmiennej ,,Estimated Gross National Income per Capita (Male)'' "
   ]
  },
  {
   "cell_type": "code",
   "execution_count": 27,
   "metadata": {},
   "outputs": [
    {
     "data": {
      "text/plain": [
       "count       161.000000\n",
       "mean      22445.360248\n",
       "std       23646.740275\n",
       "min         689.000000\n",
       "25%        5468.000000\n",
       "50%       14754.000000\n",
       "75%       30320.000000\n",
       "max      143979.000000\n",
       "Name: Estimated Gross National Income per Capita (Male), dtype: float64"
      ]
     },
     "execution_count": 27,
     "metadata": {},
     "output_type": "execute_result"
    }
   ],
   "source": [
    "zmienna = 'Estimated Gross National Income per Capita (Male)'\n",
    "dane[zmienna].describe()"
   ]
  },
  {
   "cell_type": "code",
   "execution_count": null,
   "metadata": {},
   "outputs": [],
   "source": [
    "plt.bar()"
   ]
  },
  {
   "cell_type": "code",
   "execution_count": 28,
   "metadata": {},
   "outputs": [
    {
     "data": {
      "image/png": "[encoded data removed]",
      "text/plain": [
       "<Figure size 432x288 with 1 Axes>"
      ]
     },
     "metadata": {
      "needs_background": "light"
     },
     "output_type": "display_data"
    }
   ],
   "source": [
    "plt.hist(dane[zmienna])\n",
    "plt.title('Histogram zmiennej Estimated Gross National Income per Capita (Male)')\n",
    "plt.show()"
   ]
  },
  {
   "cell_type": "markdown",
   "metadata": {},
   "source": [
    "## 13. Średnie wartości każdej zmiennej w zależności od kontynentu "
   ]
  },
  {
   "cell_type": "code",
   "execution_count": 5,
   "metadata": {},
   "outputs": [
    {
     "data": {
      "text/html": [
       "<div>\n",
       "<style scoped>\n",
       "    .dataframe tbody tr th:only-of-type {\n",
       "        vertical-align: middle;\n",
       "    }\n",
       "\n",
       "    .dataframe tbody tr th {\n",
       "        vertical-align: top;\n",
       "    }\n",
       "\n",
       "    .dataframe thead th {\n",
       "        text-align: right;\n",
       "    }\n",
       "</style>\n",
       "<table border=\"1\" class=\"dataframe\">\n",
       "  <thead>\n",
       "    <tr style=\"text-align: right;\">\n",
       "      <th></th>\n",
       "      <th>Gender Development Index (GDI)</th>\n",
       "      <th>Human Development Index (Female)</th>\n",
       "      <th>Human Development Index (Male)</th>\n",
       "      <th>Life Expectancy at Birth (Female)</th>\n",
       "      <th>Life Expectancy at Birth (Male)</th>\n",
       "      <th>Expected Years of Education (Female)</th>\n",
       "      <th>Expected Years of Education (Male)</th>\n",
       "      <th>Mean Years of Education (Female)</th>\n",
       "      <th>Mean Years of Education (Male)</th>\n",
       "      <th>Estimated Gross National Income per Capita (Female)</th>\n",
       "      <th>Estimated Gross National Income per Capita (Male)</th>\n",
       "    </tr>\n",
       "    <tr>\n",
       "      <th>Continent</th>\n",
       "      <th></th>\n",
       "      <th></th>\n",
       "      <th></th>\n",
       "      <th></th>\n",
       "      <th></th>\n",
       "      <th></th>\n",
       "      <th></th>\n",
       "      <th></th>\n",
       "      <th></th>\n",
       "      <th></th>\n",
       "      <th></th>\n",
       "    </tr>\n",
       "  </thead>\n",
       "  <tbody>\n",
       "    <tr>\n",
       "      <th>Africa</th>\n",
       "      <td>0.871386</td>\n",
       "      <td>0.480977</td>\n",
       "      <td>0.548568</td>\n",
       "      <td>62.659091</td>\n",
       "      <td>59.700000</td>\n",
       "      <td>9.997727</td>\n",
       "      <td>10.875000</td>\n",
       "      <td>4.175000</td>\n",
       "      <td>5.693182</td>\n",
       "      <td>2865.886364</td>\n",
       "      <td>5777.159091</td>\n",
       "    </tr>\n",
       "    <tr>\n",
       "      <th>Asia</th>\n",
       "      <td>0.913605</td>\n",
       "      <td>0.681488</td>\n",
       "      <td>0.740651</td>\n",
       "      <td>75.606977</td>\n",
       "      <td>70.909302</td>\n",
       "      <td>12.934884</td>\n",
       "      <td>13.030233</td>\n",
       "      <td>7.567442</td>\n",
       "      <td>8.606977</td>\n",
       "      <td>13241.883721</td>\n",
       "      <td>30001.930233</td>\n",
       "    </tr>\n",
       "    <tr>\n",
       "      <th>Australia and Oceania</th>\n",
       "      <td>0.950667</td>\n",
       "      <td>0.747833</td>\n",
       "      <td>0.784667</td>\n",
       "      <td>77.983333</td>\n",
       "      <td>72.950000</td>\n",
       "      <td>15.850000</td>\n",
       "      <td>15.216667</td>\n",
       "      <td>10.733333</td>\n",
       "      <td>11.100000</td>\n",
       "      <td>11937.333333</td>\n",
       "      <td>19963.833333</td>\n",
       "    </tr>\n",
       "    <tr>\n",
       "      <th>Europe</th>\n",
       "      <td>0.981718</td>\n",
       "      <td>0.838641</td>\n",
       "      <td>0.854923</td>\n",
       "      <td>81.356410</td>\n",
       "      <td>75.271795</td>\n",
       "      <td>16.138462</td>\n",
       "      <td>15.333333</td>\n",
       "      <td>11.082051</td>\n",
       "      <td>11.512821</td>\n",
       "      <td>23197.871795</td>\n",
       "      <td>36523.512821</td>\n",
       "    </tr>\n",
       "    <tr>\n",
       "      <th>North America</th>\n",
       "      <td>0.975250</td>\n",
       "      <td>0.730000</td>\n",
       "      <td>0.747750</td>\n",
       "      <td>78.281250</td>\n",
       "      <td>72.687500</td>\n",
       "      <td>13.637500</td>\n",
       "      <td>12.768750</td>\n",
       "      <td>9.125000</td>\n",
       "      <td>9.062500</td>\n",
       "      <td>11791.312500</td>\n",
       "      <td>19282.250000</td>\n",
       "    </tr>\n",
       "    <tr>\n",
       "      <th>South America</th>\n",
       "      <td>0.971077</td>\n",
       "      <td>0.718615</td>\n",
       "      <td>0.739308</td>\n",
       "      <td>76.900000</td>\n",
       "      <td>70.838462</td>\n",
       "      <td>14.407692</td>\n",
       "      <td>13.284615</td>\n",
       "      <td>8.315385</td>\n",
       "      <td>8.507692</td>\n",
       "      <td>9212.461538</td>\n",
       "      <td>16669.923077</td>\n",
       "    </tr>\n",
       "  </tbody>\n",
       "</table>\n",
       "</div>"
      ],
      "text/plain": [
       "                       Gender Development Index (GDI)  \\\n",
       "Continent                                               \n",
       "Africa                                       0.871386   \n",
       "Asia                                         0.913605   \n",
       "Australia and Oceania                        0.950667   \n",
       "Europe                                       0.981718   \n",
       "North America                                0.975250   \n",
       "South America                                0.971077   \n",
       "\n",
       "                       Human Development Index (Female)  \\\n",
       "Continent                                                 \n",
       "Africa                                         0.480977   \n",
       "Asia                                           0.681488   \n",
       "Australia and Oceania                          0.747833   \n",
       "Europe                                         0.838641   \n",
       "North America                                  0.730000   \n",
       "South America                                  0.718615   \n",
       "\n",
       "                       Human Development Index (Male)  \\\n",
       "Continent                                               \n",
       "Africa                                       0.548568   \n",
       "Asia                                         0.740651   \n",
       "Australia and Oceania                        0.784667   \n",
       "Europe                                       0.854923   \n",
       "North America                                0.747750   \n",
       "South America                                0.739308   \n",
       "\n",
       "                       Life Expectancy at Birth (Female)  \\\n",
       "Continent                                                  \n",
       "Africa                                         62.659091   \n",
       "Asia                                           75.606977   \n",
       "Australia and Oceania                          77.983333   \n",
       "Europe                                         81.356410   \n",
       "North America                                  78.281250   \n",
       "South America                                  76.900000   \n",
       "\n",
       "                       Life Expectancy at Birth (Male)  \\\n",
       "Continent                                                \n",
       "Africa                                       59.700000   \n",
       "Asia                                         70.909302   \n",
       "Australia and Oceania                        72.950000   \n",
       "Europe                                       75.271795   \n",
       "North America                                72.687500   \n",
       "South America                                70.838462   \n",
       "\n",
       "                       Expected Years of Education (Female)  \\\n",
       "Continent                                                     \n",
       "Africa                                             9.997727   \n",
       "Asia                                              12.934884   \n",
       "Australia and Oceania                             15.850000   \n",
       "Europe                                            16.138462   \n",
       "North America                                     13.637500   \n",
       "South America                                     14.407692   \n",
       "\n",
       "                       Expected Years of Education (Male)  \\\n",
       "Continent                                                   \n",
       "Africa                                          10.875000   \n",
       "Asia                                            13.030233   \n",
       "Australia and Oceania                           15.216667   \n",
       "Europe                                          15.333333   \n",
       "North America                                   12.768750   \n",
       "South America                                   13.284615   \n",
       "\n",
       "                       Mean Years of Education (Female)  \\\n",
       "Continent                                                 \n",
       "Africa                                         4.175000   \n",
       "Asia                                           7.567442   \n",
       "Australia and Oceania                         10.733333   \n",
       "Europe                                        11.082051   \n",
       "North America                                  9.125000   \n",
       "South America                                  8.315385   \n",
       "\n",
       "                       Mean Years of Education (Male)  \\\n",
       "Continent                                               \n",
       "Africa                                       5.693182   \n",
       "Asia                                         8.606977   \n",
       "Australia and Oceania                       11.100000   \n",
       "Europe                                      11.512821   \n",
       "North America                                9.062500   \n",
       "South America                                8.507692   \n",
       "\n",
       "                       Estimated Gross National Income per Capita (Female)  \\\n",
       "Continent                                                                    \n",
       "Africa                                                       2865.886364     \n",
       "Asia                                                        13241.883721     \n",
       "Australia and Oceania                                       11937.333333     \n",
       "Europe                                                      23197.871795     \n",
       "North America                                               11791.312500     \n",
       "South America                                                9212.461538     \n",
       "\n",
       "                       Estimated Gross National Income per Capita (Male)  \n",
       "Continent                                                                 \n",
       "Africa                                                       5777.159091  \n",
       "Asia                                                        30001.930233  \n",
       "Australia and Oceania                                       19963.833333  \n",
       "Europe                                                      36523.512821  \n",
       "North America                                               19282.250000  \n",
       "South America                                               16669.923077  "
      ]
     },
     "execution_count": 5,
     "metadata": {},
     "output_type": "execute_result"
    }
   ],
   "source": [
    "dane.groupby('Continent')[['Gender Development Index (GDI)','Human Development Index (Female)','Human Development Index (Male)','Life Expectancy at Birth (Female)','Life Expectancy at Birth (Male)','Expected Years of Education (Female)','Expected Years of Education (Male)','Mean Years of Education (Female)','Mean Years of Education (Male)','Estimated Gross National Income per Capita (Female)','Estimated Gross National Income per Capita (Male)']].mean()"
   ]
  },
  {
   "cell_type": "markdown",
   "metadata": {},
   "source": [
    "# PYTANIA"
   ]
  },
  {
   "cell_type": "markdown",
   "metadata": {},
   "source": [
    "## 1. CZY GDI ZALEŻY OD KONTYNETU?"
   ]
  },
  {
   "cell_type": "markdown",
   "metadata": {},
   "source": [
    "### Wykres średniego wartości Gender Development Index w zależności od kontynetu"
   ]
  },
  {
   "cell_type": "markdown",
   "metadata": {},
   "source": [
    "## TEST: Korelacja zmiennych ,,Continent\" oraz ,,Gender development\" - Test χ2"
   ]
  },
  {
   "cell_type": "markdown",
   "metadata": {},
   "source": [
    "### Tabela krzyżowa"
   ]
  },
  {
   "cell_type": "code",
   "execution_count": 6,
   "metadata": {},
   "outputs": [
    {
     "data": {
      "text/html": [
       "<div>\n",
       "<style scoped>\n",
       "    .dataframe tbody tr th:only-of-type {\n",
       "        vertical-align: middle;\n",
       "    }\n",
       "\n",
       "    .dataframe tbody tr th {\n",
       "        vertical-align: top;\n",
       "    }\n",
       "\n",
       "    .dataframe thead th {\n",
       "        text-align: right;\n",
       "    }\n",
       "</style>\n",
       "<table border=\"1\" class=\"dataframe\">\n",
       "  <thead>\n",
       "    <tr style=\"text-align: right;\">\n",
       "      <th>Gender development</th>\n",
       "      <th>average</th>\n",
       "      <th>high</th>\n",
       "      <th>low</th>\n",
       "    </tr>\n",
       "    <tr>\n",
       "      <th>Continent</th>\n",
       "      <th></th>\n",
       "      <th></th>\n",
       "      <th></th>\n",
       "    </tr>\n",
       "  </thead>\n",
       "  <tbody>\n",
       "    <tr>\n",
       "      <th>Africa</th>\n",
       "      <td>24</td>\n",
       "      <td>2</td>\n",
       "      <td>18</td>\n",
       "    </tr>\n",
       "    <tr>\n",
       "      <th>Asia</th>\n",
       "      <td>27</td>\n",
       "      <td>10</td>\n",
       "      <td>6</td>\n",
       "    </tr>\n",
       "    <tr>\n",
       "      <th>Australia and Oceania</th>\n",
       "      <td>5</td>\n",
       "      <td>1</td>\n",
       "      <td>0</td>\n",
       "    </tr>\n",
       "    <tr>\n",
       "      <th>Europe</th>\n",
       "      <td>12</td>\n",
       "      <td>27</td>\n",
       "      <td>0</td>\n",
       "    </tr>\n",
       "    <tr>\n",
       "      <th>North America</th>\n",
       "      <td>7</td>\n",
       "      <td>9</td>\n",
       "      <td>0</td>\n",
       "    </tr>\n",
       "    <tr>\n",
       "      <th>South America</th>\n",
       "      <td>5</td>\n",
       "      <td>8</td>\n",
       "      <td>0</td>\n",
       "    </tr>\n",
       "  </tbody>\n",
       "</table>\n",
       "</div>"
      ],
      "text/plain": [
       "Gender development     average  high  low\n",
       "Continent                                \n",
       "Africa                      24     2   18\n",
       "Asia                        27    10    6\n",
       "Australia and Oceania        5     1    0\n",
       "Europe                      12    27    0\n",
       "North America                7     9    0\n",
       "South America                5     8    0"
      ]
     },
     "execution_count": 6,
     "metadata": {},
     "output_type": "execute_result"
    }
   ],
   "source": [
    "confusion_matrix = pd.crosstab(dane['Continent'], dane['Gender development'])\n",
    "confusion_matrix"
   ]
  },
  {
   "cell_type": "markdown",
   "metadata": {},
   "source": [
    "### Wartość statystyki testowej"
   ]
  },
  {
   "cell_type": "code",
   "execution_count": 7,
   "metadata": {},
   "outputs": [
    {
     "data": {
      "text/plain": [
       "68.62674770415649"
      ]
     },
     "execution_count": 7,
     "metadata": {},
     "output_type": "execute_result"
    }
   ],
   "source": [
    "st.chi2_contingency(confusion_matrix)[0]"
   ]
  },
  {
   "cell_type": "markdown",
   "metadata": {},
   "source": [
    "### Ilość stopni swobody"
   ]
  },
  {
   "cell_type": "code",
   "execution_count": 8,
   "metadata": {},
   "outputs": [
    {
     "data": {
      "text/plain": [
       "10"
      ]
     },
     "execution_count": 8,
     "metadata": {},
     "output_type": "execute_result"
    }
   ],
   "source": [
    "st.chi2_contingency(confusion_matrix)[2]"
   ]
  },
  {
   "cell_type": "markdown",
   "metadata": {},
   "source": [
    "### Istotność"
   ]
  },
  {
   "cell_type": "code",
   "execution_count": 9,
   "metadata": {},
   "outputs": [
    {
     "data": {
      "text/plain": [
       "8.158348632609732e-11"
      ]
     },
     "execution_count": 9,
     "metadata": {},
     "output_type": "execute_result"
    }
   ],
   "source": [
    "st.chi2_contingency(confusion_matrix)[1]"
   ]
  },
  {
   "cell_type": "markdown",
   "metadata": {},
   "source": [
    "## ODPOWIEDŹ: Istotność jest mniejsza od 0.001, wiec możemy swobodnie odrzucić hipotezę zerową, która mówi o niezależności dwóch zmiennych i stwierdzić, że zmienna ,,Gender Development\" jest zależna od zmiennej ,,Continent\"."
   ]
  },
  {
   "cell_type": "markdown",
   "metadata": {},
   "source": [
    "### Tabela i wykres ilustrujące:"
   ]
  },
  {
   "cell_type": "code",
   "execution_count": 10,
   "metadata": {},
   "outputs": [
    {
     "data": {
      "text/html": [
       "<div>\n",
       "<style scoped>\n",
       "    .dataframe tbody tr th:only-of-type {\n",
       "        vertical-align: middle;\n",
       "    }\n",
       "\n",
       "    .dataframe tbody tr th {\n",
       "        vertical-align: top;\n",
       "    }\n",
       "\n",
       "    .dataframe thead th {\n",
       "        text-align: right;\n",
       "    }\n",
       "</style>\n",
       "<table border=\"1\" class=\"dataframe\">\n",
       "  <thead>\n",
       "    <tr style=\"text-align: right;\">\n",
       "      <th></th>\n",
       "      <th>Gender Development Index (GDI)</th>\n",
       "    </tr>\n",
       "    <tr>\n",
       "      <th>Continent</th>\n",
       "      <th></th>\n",
       "    </tr>\n",
       "  </thead>\n",
       "  <tbody>\n",
       "    <tr>\n",
       "      <th>Africa</th>\n",
       "      <td>0.871</td>\n",
       "    </tr>\n",
       "    <tr>\n",
       "      <th>Asia</th>\n",
       "      <td>0.914</td>\n",
       "    </tr>\n",
       "    <tr>\n",
       "      <th>Australia and Oceania</th>\n",
       "      <td>0.951</td>\n",
       "    </tr>\n",
       "    <tr>\n",
       "      <th>Europe</th>\n",
       "      <td>0.982</td>\n",
       "    </tr>\n",
       "    <tr>\n",
       "      <th>North America</th>\n",
       "      <td>0.975</td>\n",
       "    </tr>\n",
       "    <tr>\n",
       "      <th>South America</th>\n",
       "      <td>0.971</td>\n",
       "    </tr>\n",
       "  </tbody>\n",
       "</table>\n",
       "</div>"
      ],
      "text/plain": [
       "                       Gender Development Index (GDI)\n",
       "Continent                                            \n",
       "Africa                                          0.871\n",
       "Asia                                            0.914\n",
       "Australia and Oceania                           0.951\n",
       "Europe                                          0.982\n",
       "North America                                   0.975\n",
       "South America                                   0.971"
      ]
     },
     "execution_count": 10,
     "metadata": {},
     "output_type": "execute_result"
    }
   ],
   "source": [
    "round(dane.groupby('Continent')[['Gender Development Index (GDI)']].mean(),3)"
   ]
  },
  {
   "cell_type": "code",
   "execution_count": 23,
   "metadata": {},
   "outputs": [
    {
     "data": {
      "text/plain": [
       "<function matplotlib.pyplot.show(*args, **kw)>"
      ]
     },
     "execution_count": 23,
     "metadata": {},
     "output_type": "execute_result"
    },
    {
     "data": {
      "image/png": "[encoded data removed]",
      "text/plain": [
       "<Figure size 432x288 with 1 Axes>"
      ]
     },
     "metadata": {
      "needs_background": "light"
     },
     "output_type": "display_data"
    }
   ],
   "source": [
    "kontynenty = ['Af','Az','Au','Eu','APłn','APłd']\n",
    "GDI = [0.871,0.914,0.951,0.982,0.975,0.971]\n",
    "\n",
    "\n",
    "index = np.arange(6)\n",
    "width = 0.3\n",
    "\n",
    "plt.bar(index,EYEF,color='green')\n",
    "\n",
    "plt.title(\"Gender Development Index\")\n",
    "\n",
    "plt.ylabel(\"GDI\")\n",
    "plt.xlabel('Kontynenty')\n",
    "plt.xticks(index, kontynenty)\n",
    "plt.show"
   ]
  },
  {
   "cell_type": "markdown",
   "metadata": {},
   "source": [
    "## 2. CZY JEST ISTOTNA RÓŻNICA W LICZBIE LAT NAUKI MIĘDZY KOBIETAMI A MĘŹCZYZNAMI? "
   ]
  },
  {
   "cell_type": "markdown",
   "metadata": {},
   "source": [
    "### Test istotności różnicy w liczbie lata nauki między płciami "
   ]
  },
  {
   "cell_type": "code",
   "execution_count": 14,
   "metadata": {},
   "outputs": [
    {
     "name": "stdout",
     "output_type": "stream",
     "text": [
      "Statystyka =0.406, p=0.685\n",
      "Nie można odrzucić Hipotezy zerowej\n"
     ]
    }
   ],
   "source": [
    "stat, p = ttest_ind(dane['Expected Years of Education (Female)'], dane['Expected Years of Education (Male)'])\n",
    "print('Statystyka=',stat,'p=',p)\n",
    "alfa = 0.05\n",
    "if p > alfa:\n",
    "    print('Nie można odrzucić Hipotezy zerowej')\n",
    "else:\n",
    "    print('Odrzucamy hipotezę zerową- istnieje różnica ')"
   ]
  },
  {
   "cell_type": "markdown",
   "metadata": {},
   "source": [
    "## ODPOWIEDŹ: NIE MA ISTOTNEJ STATYSTYCZNIE RÓŹNICY MIĘDZY ILOŚCIĄ LAT NAUKI WŚRÓD MĘŻCZYZN I KOBIET"
   ]
  },
  {
   "cell_type": "markdown",
   "metadata": {},
   "source": [
    "### Tabela i wykres ilustrujący "
   ]
  },
  {
   "cell_type": "code",
   "execution_count": 15,
   "metadata": {},
   "outputs": [
    {
     "data": {
      "text/html": [
       "<div>\n",
       "<style scoped>\n",
       "    .dataframe tbody tr th:only-of-type {\n",
       "        vertical-align: middle;\n",
       "    }\n",
       "\n",
       "    .dataframe tbody tr th {\n",
       "        vertical-align: top;\n",
       "    }\n",
       "\n",
       "    .dataframe thead th {\n",
       "        text-align: right;\n",
       "    }\n",
       "</style>\n",
       "<table border=\"1\" class=\"dataframe\">\n",
       "  <thead>\n",
       "    <tr style=\"text-align: right;\">\n",
       "      <th></th>\n",
       "      <th>Expected Years of Education (Female)</th>\n",
       "      <th>Expected Years of Education (Male)</th>\n",
       "    </tr>\n",
       "    <tr>\n",
       "      <th>Continent</th>\n",
       "      <th></th>\n",
       "      <th></th>\n",
       "    </tr>\n",
       "  </thead>\n",
       "  <tbody>\n",
       "    <tr>\n",
       "      <th>Africa</th>\n",
       "      <td>9.998</td>\n",
       "      <td>10.875</td>\n",
       "    </tr>\n",
       "    <tr>\n",
       "      <th>Asia</th>\n",
       "      <td>12.935</td>\n",
       "      <td>13.030</td>\n",
       "    </tr>\n",
       "    <tr>\n",
       "      <th>Australia and Oceania</th>\n",
       "      <td>15.850</td>\n",
       "      <td>15.217</td>\n",
       "    </tr>\n",
       "    <tr>\n",
       "      <th>Europe</th>\n",
       "      <td>16.138</td>\n",
       "      <td>15.333</td>\n",
       "    </tr>\n",
       "    <tr>\n",
       "      <th>North America</th>\n",
       "      <td>13.638</td>\n",
       "      <td>12.769</td>\n",
       "    </tr>\n",
       "    <tr>\n",
       "      <th>South America</th>\n",
       "      <td>14.408</td>\n",
       "      <td>13.285</td>\n",
       "    </tr>\n",
       "  </tbody>\n",
       "</table>\n",
       "</div>"
      ],
      "text/plain": [
       "                       Expected Years of Education (Female)  \\\n",
       "Continent                                                     \n",
       "Africa                                                9.998   \n",
       "Asia                                                 12.935   \n",
       "Australia and Oceania                                15.850   \n",
       "Europe                                               16.138   \n",
       "North America                                        13.638   \n",
       "South America                                        14.408   \n",
       "\n",
       "                       Expected Years of Education (Male)  \n",
       "Continent                                                  \n",
       "Africa                                             10.875  \n",
       "Asia                                               13.030  \n",
       "Australia and Oceania                              15.217  \n",
       "Europe                                             15.333  \n",
       "North America                                      12.769  \n",
       "South America                                      13.285  "
      ]
     },
     "execution_count": 15,
     "metadata": {},
     "output_type": "execute_result"
    }
   ],
   "source": [
    "round(dane.groupby('Continent')[['Expected Years of Education (Female)','Expected Years of Education (Male)']].mean(),3)"
   ]
  },
  {
   "cell_type": "code",
   "execution_count": 17,
   "metadata": {},
   "outputs": [
    {
     "data": {
      "text/plain": [
       "<function matplotlib.pyplot.show(*args, **kw)>"
      ]
     },
     "execution_count": 17,
     "metadata": {},
     "output_type": "execute_result"
    },
    {
     "data": {
      "image/png": "[encoded data removed]",
      "text/plain": [
       "<Figure size 432x288 with 1 Axes>"
      ]
     },
     "metadata": {
      "needs_background": "light"
     },
     "output_type": "display_data"
    }
   ],
   "source": [
    "kontynenty = ['Af','Az','Au','Eu','NA','SA']\n",
    "EYEF = [10.035417,12.881818,14.500000,16.080000,13.795000,14.407692]\n",
    "EYEM = [10.956250,12.984091,14.044444,15.352500,12.920000,13.284615]\n",
    "\n",
    "index = np.arange(6)\n",
    "width = 0.3\n",
    "\n",
    "plt.bar(index,EYEF,width,color='green',label='Liczba lat nauki kobiet')\n",
    "plt.bar(index+width,EYEM,width,color='blue',label='Liczba lat nauki mężczyzn')\n",
    "plt.title(\"Lata nauki\")\n",
    "\n",
    "plt.ylabel(\"Liczba lat\")\n",
    "plt.xlabel('Kontynenty')\n",
    "plt.xticks(index+width/2, kontynenty)\n",
    "plt.ylim(0,20)\n",
    "\n",
    "plt.legend(loc='best')\n",
    "plt.show"
   ]
  },
  {
   "cell_type": "markdown",
   "metadata": {},
   "source": [
    "## 3. CZY JEST ISTOTNA STATYSTYCZNIE RÓŻNICA MIEDZY SZACOWANYM DOCHODEM NARODOWYM BRUTTO WŚRÓD KOBIET I MĘŻCZYZN?"
   ]
  },
  {
   "cell_type": "markdown",
   "metadata": {},
   "source": [
    "### Test istotności różnicy między szacowanym dochodem narodowym brutto na kobietę i mężczyznę"
   ]
  },
  {
   "cell_type": "code",
   "execution_count": 34,
   "metadata": {},
   "outputs": [
    {
     "name": "stdout",
     "output_type": "stream",
     "text": [
      "Statystyka= 4.7673482168865675 p= 2.8385430709501454e-06\n",
      "Odrzucamy hipotezę zerową- istnieje różnica \n"
     ]
    }
   ],
   "source": [
    "stat, p = ttest_ind(dane['Estimated Gross National Income per Capita (Male)'], dane['Estimated Gross National Income per Capita (Female)'])\n",
    "print('Statystyka=',stat,'p=',p)\n",
    "alfa = 0.05\n",
    "if p > alfa:\n",
    "    print('Nie można odrzucić Hipotezy zerowej')\n",
    "else:\n",
    "    print('Odrzucamy hipotezę zerową- istnieje różnica ')"
   ]
  },
  {
   "cell_type": "markdown",
   "metadata": {},
   "source": [
    "## ODPOWIEDŹ:  Istnieje istotna statycznie różnica  "
   ]
  },
  {
   "cell_type": "markdown",
   "metadata": {},
   "source": [
    "### Tabela i wykes ilustrujące"
   ]
  },
  {
   "cell_type": "code",
   "execution_count": 19,
   "metadata": {},
   "outputs": [
    {
     "data": {
      "text/html": [
       "<div>\n",
       "<style scoped>\n",
       "    .dataframe tbody tr th:only-of-type {\n",
       "        vertical-align: middle;\n",
       "    }\n",
       "\n",
       "    .dataframe tbody tr th {\n",
       "        vertical-align: top;\n",
       "    }\n",
       "\n",
       "    .dataframe thead th {\n",
       "        text-align: right;\n",
       "    }\n",
       "</style>\n",
       "<table border=\"1\" class=\"dataframe\">\n",
       "  <thead>\n",
       "    <tr style=\"text-align: right;\">\n",
       "      <th></th>\n",
       "      <th>Estimated Gross National Income per Capita (Female)</th>\n",
       "      <th>Estimated Gross National Income per Capita (Male)</th>\n",
       "    </tr>\n",
       "    <tr>\n",
       "      <th>Continent</th>\n",
       "      <th></th>\n",
       "      <th></th>\n",
       "    </tr>\n",
       "  </thead>\n",
       "  <tbody>\n",
       "    <tr>\n",
       "      <th>Africa</th>\n",
       "      <td>2865.886</td>\n",
       "      <td>5777.159</td>\n",
       "    </tr>\n",
       "    <tr>\n",
       "      <th>Asia</th>\n",
       "      <td>13241.884</td>\n",
       "      <td>30001.930</td>\n",
       "    </tr>\n",
       "    <tr>\n",
       "      <th>Australia and Oceania</th>\n",
       "      <td>11937.333</td>\n",
       "      <td>19963.833</td>\n",
       "    </tr>\n",
       "    <tr>\n",
       "      <th>Europe</th>\n",
       "      <td>23197.872</td>\n",
       "      <td>36523.513</td>\n",
       "    </tr>\n",
       "    <tr>\n",
       "      <th>North America</th>\n",
       "      <td>11791.312</td>\n",
       "      <td>19282.250</td>\n",
       "    </tr>\n",
       "    <tr>\n",
       "      <th>South America</th>\n",
       "      <td>9212.462</td>\n",
       "      <td>16669.923</td>\n",
       "    </tr>\n",
       "  </tbody>\n",
       "</table>\n",
       "</div>"
      ],
      "text/plain": [
       "                       Estimated Gross National Income per Capita (Female)  \\\n",
       "Continent                                                                    \n",
       "Africa                                                          2865.886     \n",
       "Asia                                                           13241.884     \n",
       "Australia and Oceania                                          11937.333     \n",
       "Europe                                                         23197.872     \n",
       "North America                                                  11791.312     \n",
       "South America                                                   9212.462     \n",
       "\n",
       "                       Estimated Gross National Income per Capita (Male)  \n",
       "Continent                                                                 \n",
       "Africa                                                          5777.159  \n",
       "Asia                                                           30001.930  \n",
       "Australia and Oceania                                          19963.833  \n",
       "Europe                                                         36523.513  \n",
       "North America                                                  19282.250  \n",
       "South America                                                  16669.923  "
      ]
     },
     "execution_count": 19,
     "metadata": {},
     "output_type": "execute_result"
    }
   ],
   "source": [
    "round(dane.groupby('Continent')[['Estimated Gross National Income per Capita (Female)','Estimated Gross National Income per Capita (Male)']].mean(),3)"
   ]
  },
  {
   "cell_type": "code",
   "execution_count": 20,
   "metadata": {},
   "outputs": [
    {
     "data": {
      "text/plain": [
       "<function matplotlib.pyplot.show(*args, **kw)>"
      ]
     },
     "execution_count": 20,
     "metadata": {},
     "output_type": "execute_result"
    },
    {
     "data": {
      "image/png": "[encoded data removed]",
      "text/plain": [
       "<Figure size 432x288 with 1 Axes>"
      ]
     },
     "metadata": {
      "needs_background": "light"
     },
     "output_type": "display_data"
    }
   ],
   "source": [
    "kontynenty = ['Af','Az','Au','Eu','APłn','APłd']\n",
    "EGNIF = [3341.549020,12752.673913,9351.875000,22780.775000,11325.842105,9212.461538]\n",
    "EGNIM = [6311.784314,28665.021739,15571.250000,35933.225000,18314.736842,16669.923077]\n",
    "\n",
    "index = np.arange(6)\n",
    "width = 0.3\n",
    "\n",
    "plt.bar(index,EGNIF,width,color='green',label='Dochód narodowy brutto kobiet')\n",
    "plt.bar(index+width,EGNIM,width,color='blue',label='Dochód narodowy brutto mężczyzn')\n",
    "plt.title(\"Dochód narodowy brutto\")\n",
    "\n",
    "plt.ylabel(\"Dochód\")\n",
    "plt.xlabel('Kontynenty')\n",
    "plt.xticks(index+width/2, kontynenty)\n",
    "plt.ylim(0,45000)\n",
    "\n",
    "plt.legend(loc='best')\n",
    "plt.show"
   ]
  },
  {
   "cell_type": "markdown",
   "metadata": {},
   "source": [
    "## 4. CZY DOCHÓD NA OSOBĘ ZALEŻY OD LICZBY LAT NAUKI WŚRÓD KOBIET?"
   ]
  },
  {
   "cell_type": "markdown",
   "metadata": {},
   "source": [
    "### TEST:  Korelacja między liczbą lat nauki a dochodem na osobę wśród kobiet"
   ]
  },
  {
   "cell_type": "code",
   "execution_count": 21,
   "metadata": {},
   "outputs": [
    {
     "data": {
      "text/plain": [
       "(0.5423097676497715, 1.0842954336530326e-13)"
      ]
     },
     "execution_count": 21,
     "metadata": {},
     "output_type": "execute_result"
    }
   ],
   "source": [
    "st.pearsonr(dane['Estimated Gross National Income per Capita (Male)'],dane['Mean Years of Education (Male)'])"
   ]
  },
  {
   "cell_type": "markdown",
   "metadata": {},
   "source": [
    "## ODPOWIEDŹ: Istotność jest mniejsza od 0.001, wiec możemy swobodnie odrzucić hipotezę zerową, która mówi o niezależności dwóch zmiennych i stwierdzić, że zmienna dochód na osobę zależy od liczby lat nauki wśród kobiet."
   ]
  },
  {
   "cell_type": "markdown",
   "metadata": {},
   "source": [
    "### Tabela i wykres ilustrujące:"
   ]
  },
  {
   "cell_type": "code",
   "execution_count": 33,
   "metadata": {},
   "outputs": [
    {
     "data": {
      "text/plain": [
       "<matplotlib.collections.PathCollection at 0x240904e7c18>"
      ]
     },
     "execution_count": 33,
     "metadata": {},
     "output_type": "execute_result"
    },
    {
     "data": {
      "image/png": "[encoded data removed]",
      "text/plain": [
       "<Figure size 432x288 with 1 Axes>"
      ]
     },
     "metadata": {
      "needs_background": "light"
     },
     "output_type": "display_data"
    }
   ],
   "source": [
    "plt.scatter(dane['Estimated Gross National Income per Capita (Male)'], dane['Mean Years of Education (Male)'], alpha = 0.8, c = 'black')"
   ]
  },
  {
   "cell_type": "markdown",
   "metadata": {},
   "source": [
    "## 4. CZY DOCHÓD NA OSOBĘ ZALEŻY OD LICZBY LAT NAUKI WŚRÓD MĘŻCZYZN?"
   ]
  },
  {
   "cell_type": "code",
   "execution_count": 22,
   "metadata": {},
   "outputs": [
    {
     "data": {
      "text/plain": [
       "(0.640122833034476, 6.129568967605379e-20)"
      ]
     },
     "execution_count": 22,
     "metadata": {},
     "output_type": "execute_result"
    }
   ],
   "source": [
    "st.pearsonr(dane['Estimated Gross National Income per Capita (Female)'],dane['Mean Years of Education (Female)'])"
   ]
  },
  {
   "cell_type": "markdown",
   "metadata": {},
   "source": [
    "## ODPOWIEDŹ: Istotność jest mniejsza od 0.001, wiec możemy swobodnie odrzucić hipotezę zerową, która mówi o niezależności dwóch zmiennych i stwierdzić, że zmienna dochód na osobę zależy od liczby lat nauki wśród mężczyzn."
   ]
  },
  {
   "cell_type": "markdown",
   "metadata": {},
   "source": [
    "### Tabela i wykres"
   ]
  },
  {
   "cell_type": "code",
   "execution_count": 32,
   "metadata": {},
   "outputs": [
    {
     "data": {
      "text/plain": [
       "<matplotlib.collections.PathCollection at 0x240905b0828>"
      ]
     },
     "execution_count": 32,
     "metadata": {},
     "output_type": "execute_result"
    },
    {
     "data": {
      "image/png": "[encoded data removed]",
      "text/plain": [
       "<Figure size 432x288 with 1 Axes>"
      ]
     },
     "metadata": {
      "needs_background": "light"
     },
     "output_type": "display_data"
    }
   ],
   "source": [
    "plt.scatter(dane['Estimated Gross National Income per Capita (Female)'], dane['Mean Years of Education (Female)'], alpha = 0.8, c = 'red')"
   ]
  },
  {
   "cell_type": "code",
   "execution_count": null,
   "metadata": {},
   "outputs": [],
   "source": []
  }
 ],
 "metadata": {
  "kernelspec": {
   "display_name": "Python 3",
   "language": "python",
   "name": "python3"
  },
  "language_info": {
   "codemirror_mode": {
    "name": "ipython",
    "version": 3
   },
   "file_extension": ".py",
   "mimetype": "text/x-python",
   "name": "python",
   "nbconvert_exporter": "python",
   "pygments_lexer": "ipython3",
   "version": "3.7.3"
  }
 },
 "nbformat": 4,
 "nbformat_minor": 2
}
